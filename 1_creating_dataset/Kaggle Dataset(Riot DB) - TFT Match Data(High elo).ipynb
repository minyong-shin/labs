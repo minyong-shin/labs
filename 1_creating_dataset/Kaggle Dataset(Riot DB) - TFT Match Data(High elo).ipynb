{
 "cells": [
  {
   "cell_type": "code",
   "execution_count": 2,
   "metadata": {},
   "outputs": [],
   "source": [
    "import requests # 웹 페이지 소스를 얻기 위한 패키지(기본 내장 패키지이다.)\n",
    "from bs4 import BeautifulSoup # 웹 페이지 소스를 얻기 위한 패키지, 더 간단히 얻을 수 있다는 장점이 있다고 한다.\n",
    "from datetime import datetime                                # (!pip install beautifulsoup4 으로 다운받을 수 있다.)\n",
    "import pandas as pd # 데이터를 처리하기 위한 가장 기본적인 패키지\n",
    "import time # 사이트를 불러올 때, 작업 지연시간을 지정해주기 위한 패키지이다. (사이트가 늦게 켜지면 에러가 발생하기 때문)\n",
    "import urllib.request #\n",
    "from selenium import webdriver\n",
    "import json\n",
    "import re     \n",
    "from selenium.webdriver.chrome.options import Options\n",
    "from selenium.webdriver.common.keys import Keys\n",
    "import datetime as dt\n",
    "import numpy as np\n",
    "import pickle\n",
    "import matplotlib\n",
    "\n",
    "import matplotlib.pyplot as plt\n",
    "\n",
    "import numpy as np\n",
    "\n",
    "import pandas as pd\n",
    "import pickle\n",
    "import matplotlib.pyplot as plt\n",
    "import numpy as np\n",
    "import sys\n",
    "import os\n",
    "from pandas.io.json import json_normalize\n",
    "import seaborn as sns\n",
    "import statsmodels.api as sm\n",
    "import requests"
   ]
  },
  {
   "cell_type": "markdown",
   "metadata": {},
   "source": [
    "# puuid로 Match id 수집"
   ]
  },
  {
   "cell_type": "code",
   "execution_count": 36,
   "metadata": {},
   "outputs": [],
   "source": [
    "my_api = \"RGAPI-528b3854-e6ec-457d-ac14-c37f0e702fdf\""
   ]
  },
  {
   "cell_type": "code",
   "execution_count": 2,
   "metadata": {},
   "outputs": [],
   "source": [
    "challenger_user = pd.read_csv('/Users/sinmin-yong/GitHub/studies/Riot_DB/tft_league_dataset/Challenger_user_final.csv')"
   ]
  },
  {
   "cell_type": "code",
   "execution_count": 57,
   "metadata": {},
   "outputs": [],
   "source": [
    "gr_user = pd.read_csv('/Users/sinmin-yong/GitHub/studies/Riot_DB/tft_league_dataset/GrandMaster_user_final.csv')"
   ]
  },
  {
   "cell_type": "code",
   "execution_count": 101,
   "metadata": {},
   "outputs": [],
   "source": [
    "master_user = pd.read_csv('/Users/sinmin-yong/GitHub/studies/Riot_DB/tft_league_dataset/Master_user_final.csv')"
   ]
  },
  {
   "cell_type": "code",
   "execution_count": 85,
   "metadata": {},
   "outputs": [],
   "source": [
    "chall_game = pd.read_csv('/Users/sinmin-yong/GitHub/studies/Riot_DB/tft_league_dataset/TFT_dataset.csv')\n",
    "gr_game = pd.read_csv('/Users/sinmin-yong/GitHub/studies/Riot_DB/tft_league_dataset/TFT_GrandMaster_dataset.csv')"
   ]
  },
  {
   "cell_type": "code",
   "execution_count": 3,
   "metadata": {},
   "outputs": [],
   "source": [
    "puuid = challenger_user['puuid'].tolist()"
   ]
  },
  {
   "cell_type": "code",
   "execution_count": 61,
   "metadata": {},
   "outputs": [],
   "source": [
    "puuid = gr_user['puuid'].tolist()"
   ]
  },
  {
   "cell_type": "code",
   "execution_count": 102,
   "metadata": {},
   "outputs": [],
   "source": [
    "puuid = master_user['puuid'].tolist()"
   ]
  },
  {
   "cell_type": "code",
   "execution_count": 12,
   "metadata": {},
   "outputs": [],
   "source": [
    "dia_user = pd.read_csv('/Users/sinmin-yong/GitHub/studies/Riot_DB/tft_league_dataset/TFT_Diamond_user.csv')\n",
    "pla_user = pd.read_csv('/Users/sinmin-yong/GitHub/studies/Riot_DB/tft_league_dataset/TFT_Platinum_user.csv')\n",
    "gol_user = pd.read_csv('/Users/sinmin-yong/GitHub/studies/Riot_DB/tft_league_dataset/TFT_Gold_user.csv')\n",
    "sil_user = pd.read_csv('/Users/sinmin-yong/GitHub/studies/Riot_DB/tft_league_dataset/TFT_Silver_user.csv')"
   ]
  },
  {
   "cell_type": "code",
   "execution_count": 13,
   "metadata": {},
   "outputs": [],
   "source": [
    "dia_puuid = dia_user['puuId'].tolist()\n",
    "pla_puuid= pla_user['puuId'].tolist()\n",
    "gol_puuid = gol_user['puuId'].tolist()\n",
    "sil_puuid = sil_user['puuId'].tolist()"
   ]
  },
  {
   "cell_type": "code",
   "execution_count": 19,
   "metadata": {
    "scrolled": true
   },
   "outputs": [],
   "source": [
    "def matchid_scarpy(puuid_list,my_api):\n",
    "\n",
    "    game_id = []\n",
    "    base_url = 'https://asia.api.riotgames.com/tft/match/v1/matches/by-puuid/{}/ids?count=80'\n",
    "    \n",
    "    for i in range(len(puuid_list)):\n",
    "        try:\n",
    "            req = requests.get(base_url.format(puuid_list[i]),\n",
    "                              headers = {\"User-Agent\": \"Mozilla/5.0 (Macintosh; Intel Mac OS X 10_15_2) AppleWebKit/537.36 (KHTML, like Gecko) Chrome/80.0.3987.149 Safari/537.36\",\n",
    "                \"Accept-Language\": \"ko-KR,ko;q=0.9,en-US;q=0.8,en;q=0.7\",\n",
    "                \"Accept-Charset\": \"application/x-www-form-urlencoded; charset=UTF-8\",\n",
    "                \"Origin\": \"https://developer.riotgames.com\",\n",
    "                \"X-Riot-Token\": my_api})\n",
    "\n",
    "            print(req.status_code)\n",
    "\n",
    "            if req.status_code == 200:\n",
    "                    pass\n",
    "\n",
    "            elif req.status_code == 429:\n",
    "                print('api cost full : infinite loop start')\n",
    "                print('loop location : ',i)\n",
    "                start_time = time.time()\n",
    "\n",
    "                while True:\n",
    "                    if req.status_code == 429:\n",
    "\n",
    "                        print('try 10 second wait time')\n",
    "                        time.sleep(10)\n",
    "\n",
    "                        req = requests.get(base_url.format(puuid_list[i]),\n",
    "                              headers = {\"User-Agent\": \"Mozilla/5.0 (Macintosh; Intel Mac OS X 10_15_2) AppleWebKit/537.36 (KHTML, like Gecko) Chrome/80.0.3987.149 Safari/537.36\",\n",
    "                \"Accept-Language\": \"ko-KR,ko;q=0.9,en-US;q=0.8,en;q=0.7\",\n",
    "                \"Accept-Charset\": \"application/x-www-form-urlencoded; charset=UTF-8\",\n",
    "                \"Origin\": \"https://developer.riotgames.com\",\n",
    "                \"X-Riot-Token\": my_api})\n",
    "                        print(req.status_code)\n",
    "\n",
    "                    elif req.status_code == 200:\n",
    "                        print('total wait time : ', time.time() - start_time)\n",
    "                        print('recovery api cost')\n",
    "                        break\n",
    "\n",
    "            elif req.status_code == 503:\n",
    "                print('service available error')\n",
    "                start_time = time.time()\n",
    "\n",
    "                while True:\n",
    "                    if req.status_code == 503 or req.status_code == 429:\n",
    "\n",
    "                        print('try 10 second wait time')\n",
    "                        time.sleep(10)\n",
    "\n",
    "                        req = requests.get(base_url.format(puuid_list[i]),\n",
    "                              headers = {\"User-Agent\": \"Mozilla/5.0 (Macintosh; Intel Mac OS X 10_15_2) AppleWebKit/537.36 (KHTML, like Gecko) Chrome/80.0.3987.149 Safari/537.36\",\n",
    "                \"Accept-Language\": \"ko-KR,ko;q=0.9,en-US;q=0.8,en;q=0.7\",\n",
    "                \"Accept-Charset\": \"application/x-www-form-urlencoded; charset=UTF-8\",\n",
    "                \"Origin\": \"https://developer.riotgames.com\",\n",
    "                \"X-Riot-Token\": my_api})\n",
    "                        print(req.status_code)\n",
    "\n",
    "                    elif req.status_code == 200:\n",
    "                        print('total error wait time : ', time.time() - start_time)\n",
    "                        print('recovery api cost')\n",
    "                        break\n",
    "            elif req.status_code == 403: # api갱신이 필요\n",
    "                print('you need api renewal')\n",
    "                print('break')\n",
    "                break\n",
    "\n",
    "\n",
    "            game_id0 = req.json()\n",
    "\n",
    "            game_id += game_id0\n",
    "        except:\n",
    "            print('error_captured' + str(i))\n",
    "            pass\n",
    "        \n",
    "    return game_id"
   ]
  },
  {
   "cell_type": "code",
   "execution_count": null,
   "metadata": {},
   "outputs": [],
   "source": [
    "dia_game_id3 = matchid_scarpy(dia_puuid,my_api)"
   ]
  },
  {
   "cell_type": "code",
   "execution_count": null,
   "metadata": {},
   "outputs": [],
   "source": [
    "pla_game_id = matchid_scarpy(pla_puuid,my_api)"
   ]
  },
  {
   "cell_type": "code",
   "execution_count": 29,
   "metadata": {},
   "outputs": [],
   "source": [
    "dia_game_id = list(set(dia_game_id3))"
   ]
  },
  {
   "cell_type": "code",
   "execution_count": null,
   "metadata": {},
   "outputs": [],
   "source": [
    "dia_game_id = matchid_scarpy(dia_puuid,my_api)"
   ]
  },
  {
   "cell_type": "code",
   "execution_count": null,
   "metadata": {},
   "outputs": [],
   "source": [
    "dia_game_id = matchid_scarpy(dia_puuid,my_api)"
   ]
  },
  {
   "cell_type": "code",
   "execution_count": null,
   "metadata": {},
   "outputs": [],
   "source": [
    "dia_game_id = matchid_scarpy(dia_puuid,my_api)"
   ]
  },
  {
   "cell_type": "code",
   "execution_count": 105,
   "metadata": {},
   "outputs": [],
   "source": [
    "game_id2 = list(set(game_id))"
   ]
  },
  {
   "cell_type": "code",
   "execution_count": 106,
   "metadata": {},
   "outputs": [],
   "source": [
    "game_id3 = game_id"
   ]
  },
  {
   "cell_type": "code",
   "execution_count": 89,
   "metadata": {},
   "outputs": [],
   "source": [
    "pre_scrapy_game = list(set(list(set(chall_game['gameId'].tolist())) + list(set(gr_game['gameId'].tolist()))))"
   ]
  },
  {
   "cell_type": "code",
   "execution_count": 108,
   "metadata": {},
   "outputs": [],
   "source": [
    "game_id = list(set(game_id2) - set(pre_scrapy_game))"
   ]
  },
  {
   "cell_type": "markdown",
   "metadata": {},
   "source": [
    "# Match id로 경기 데이터 수집"
   ]
  },
  {
   "cell_type": "markdown",
   "metadata": {},
   "source": [
    "# 데이터셋 구축\n",
    "    - 변수를 gameid, 게임시간, 1등~8등의 유저들의 info (조합 / 챔피언)\n",
    "        - participants의 traits\n",
    "            - num_units : 해당 조합으로 할당되어 있는 유닛의 수\n",
    "            - style :\n",
    "            - tier_current : \n",
    "            - tier_total : \n",
    "        - participants의 units\n",
    "            - items : champion weared item\n",
    "            - character : champion name\n",
    "            - ratity : cost는 아님 (단위 희귀성)\n",
    "            - tier : star"
   ]
  },
  {
   "cell_type": "code",
   "execution_count": null,
   "metadata": {},
   "outputs": [],
   "source": [
    "total_game_df2 = total_game_df"
   ]
  },
  {
   "cell_type": "code",
   "execution_count": 47,
   "metadata": {},
   "outputs": [],
   "source": [
    "game_id = list(set(game_id) - set(total_game_df2['gameId'].tolist()))"
   ]
  },
  {
   "cell_type": "code",
   "execution_count": 73,
   "metadata": {},
   "outputs": [],
   "source": [
    "game_id = set(game_id) - set(total_game_df_chall['gameId'].tolist())"
   ]
  },
  {
   "cell_type": "code",
   "execution_count": 74,
   "metadata": {},
   "outputs": [],
   "source": [
    "game_id = list(game_id)"
   ]
  },
  {
   "cell_type": "code",
   "execution_count": 46,
   "metadata": {
    "scrolled": true
   },
   "outputs": [],
   "source": [
    "def gamedata_scrapy(game_id,my_api):\n",
    "\n",
    "    base_url = 'https://asia.api.riotgames.com/tft/match/v1/matches/{}?api_key=' + my_api\n",
    "    total_game_df = pd.DataFrame()\n",
    "\n",
    "    for i in range(5000,len(game_id)):\n",
    "\n",
    "        try:\n",
    "            req = requests.get(base_url.format(game_id[i]))\n",
    "            print(i)\n",
    "\n",
    "            if req.status_code == 200:\n",
    "                    pass\n",
    "\n",
    "            elif req.status_code == 429:\n",
    "                print('api cost full : infinite loop start')\n",
    "                print('loop location : ',i)\n",
    "                start_time = time.time()\n",
    "\n",
    "                while True:\n",
    "                    if req.status_code == 429:\n",
    "\n",
    "                        print('try 10 second wait time')\n",
    "                        time.sleep(10)\n",
    "\n",
    "                        req = requests.get(base_url.format(game_id[i]))\n",
    "                        print(req.status_code)\n",
    "\n",
    "                    elif req.status_code == 200:\n",
    "                        print('total wait time : ', time.time() - start_time)\n",
    "                        print('recovery api cost')\n",
    "                        break\n",
    "\n",
    "            elif req.status_code == 503:\n",
    "                print('service available error')\n",
    "                start_time = time.time()\n",
    "\n",
    "                while True:\n",
    "                    if req.status_code == 503 or req.status_code == 429:\n",
    "\n",
    "                        print('try 10 second wait time')\n",
    "                        time.sleep(10)\n",
    "\n",
    "                        req = requests.get(base_url.format(game_id[i]))\n",
    "                        print(req.status_code)\n",
    "\n",
    "                    elif req.status_code == 200:\n",
    "                        print('total error wait time : ', time.time() - start_time)\n",
    "                        print('recovery api cost')\n",
    "                        break\n",
    "            elif req.status_code == 403: # api갱신이 필요\n",
    "                print('you need api renewal')\n",
    "                print('break')\n",
    "                break\n",
    "\n",
    "\n",
    "            match_json = req.json()\n",
    "\n",
    "            one_game_df = pd.DataFrame()\n",
    "\n",
    "            for j in range(len(match_json['info']['participants'])):\n",
    "\n",
    "                gameid = game_id[i]\n",
    "                gametime = match_json['info']['game_length']\n",
    "                level = match_json['info']['participants'][j]['level']\n",
    "                lastround = match_json['info']['participants'][j]['last_round']\n",
    "                placement = match_json['info']['participants'][j]['placement']\n",
    "                timeel = match_json['info']['participants'][j]['time_eliminated']\n",
    "\n",
    "                combi = {}\n",
    "                for k in range(len(match_json['info']['participants'][j]['traits'])):\n",
    "                    name = match_json['info']['participants'][j]['traits'][k]['name']\n",
    "                    value = match_json['info']['participants'][j]['traits'][k]['num_units']\n",
    "\n",
    "                    combi0 = {name:value}\n",
    "\n",
    "                    combi.update(combi0)\n",
    "\n",
    "                champ = {}\n",
    "\n",
    "                for p in range(len(match_json['info']['participants'][j]['units'])):\n",
    "                    name = match_json['info']['participants'][j]['units'][p]['character_id'].split('_')[-1]\n",
    "                    item = match_json['info']['participants'][j]['units'][p]['items']\n",
    "                    star = match_json['info']['participants'][j]['units'][p]['tier']\n",
    "\n",
    "                    champ0 = {name:{'items': item , 'star' : star}}\n",
    "\n",
    "                    champ.update(champ0)\n",
    "\n",
    "                one_game_df0 = pd.DataFrame({'gameId': [gameid]\n",
    "                     ,'gameDuration' : [gametime]\n",
    "                     ,'level': [level]\n",
    "                     ,'lastRound' : [lastround]\n",
    "                     ,'Ranked' : [placement]\n",
    "                     ,'ingameDuration' : [timeel]\n",
    "                     ,'combination' : [combi]\n",
    "                     ,'champion'  : [champ]\n",
    "                     })\n",
    "\n",
    "                one_game_df = one_game_df.append(one_game_df0)\n",
    "\n",
    "            total_game_df = total_game_df.append(one_game_df)\n",
    "\n",
    "        except:\n",
    "            print('captured error : ' + str(i))\n",
    "            pass\n",
    "        \n",
    "    return total_game_df"
   ]
  },
  {
   "cell_type": "code",
   "execution_count": null,
   "metadata": {},
   "outputs": [],
   "source": [
    "pla_game_df = gamedata_scrapy(pla_game_id,my_api)"
   ]
  },
  {
   "cell_type": "code",
   "execution_count": 49,
   "metadata": {},
   "outputs": [],
   "source": [
    "pla_game_df.to_csv('/Users/sinmin-yong/GitHub/studies/Riot_DB/tft_league_dataset/TFT_Platinum_dataset2.csv',index= False)"
   ]
  },
  {
   "cell_type": "code",
   "execution_count": 33,
   "metadata": {},
   "outputs": [],
   "source": [
    "total_game_df.to_csv('/Users/sinmin-yong/GitHub/studies/Riot_DB/tft_league_dataset/TFT_Diamond_dataset.csv',index= False)"
   ]
  },
  {
   "cell_type": "code",
   "execution_count": 82,
   "metadata": {},
   "outputs": [],
   "source": [
    "total_game_df2 = total_game_df2.append(total_game_df)"
   ]
  },
  {
   "cell_type": "code",
   "execution_count": 55,
   "metadata": {},
   "outputs": [],
   "source": [
    "total_game_df2.to_csv('/Users/sinmin-yong/GitHub/studies/Riot_DB/tft_league_dataset/TFT_dataset.csv',index= False)"
   ]
  },
  {
   "cell_type": "code",
   "execution_count": null,
   "metadata": {},
   "outputs": [],
   "source": [
    "total_game_df2.to_csv('/Users/sinmin-yong/GitHub/studies/Riot_DB/tft_league_dataset/TFT_GrandMaster_dataset.csv',index= False)"
   ]
  },
  {
   "cell_type": "code",
   "execution_count": null,
   "metadata": {},
   "outputs": [],
   "source": [
    "total_game_df.to_csv('/Users/sinmin-yong/GitHub/studies/Riot_DB/tft_league_dataset/TFT_Master_dataset.csv',index= False)"
   ]
  },
  {
   "cell_type": "code",
   "execution_count": 122,
   "metadata": {},
   "outputs": [],
   "source": [
    "chall_game = pd.read_csv('/Users/sinmin-yong/GitHub/studies/Riot_DB/tft_league_dataset/TFT_dataset.csv')\n",
    "gr_game = pd.read_csv('/Users/sinmin-yong/GitHub/studies/Riot_DB/tft_league_dataset/TFT_GrandMaster_dataset.csv')\n",
    "master_game = pd.read_csv('/Users/sinmin-yong/GitHub/studies/Riot_DB/tft_league_dataset/TFT_Master_dataset.csv')"
   ]
  },
  {
   "cell_type": "code",
   "execution_count": 72,
   "metadata": {},
   "outputs": [],
   "source": [
    "dia_game = pd.read_csv('/Users/sinmin-yong/GitHub/studies/Riot_DB/tft_league_dataset/TFT_Diamond_dataset.csv')\n",
    "pla_game1 = pd.read_csv('/Users/sinmin-yong/GitHub/studies/Riot_DB/tft_league_dataset/TFT_Platinum_dataset1.csv')\n",
    "pla_game2 = pd.read_csv('/Users/sinmin-yong/GitHub/studies/Riot_DB/tft_league_dataset/TFT_Platinum_dataset2.csv')"
   ]
  },
  {
   "cell_type": "markdown",
   "metadata": {},
   "source": [
    "# 이것저것 데이터 병합"
   ]
  },
  {
   "cell_type": "code",
   "execution_count": 124,
   "metadata": {},
   "outputs": [
    {
     "data": {
      "text/plain": [
       "11435"
      ]
     },
     "execution_count": 124,
     "metadata": {},
     "output_type": "execute_result"
    }
   ],
   "source": [
    "len(set(chall_game['gameId'].tolist()))"
   ]
  },
  {
   "cell_type": "code",
   "execution_count": 141,
   "metadata": {},
   "outputs": [
    {
     "data": {
      "text/plain": [
       "10000"
      ]
     },
     "execution_count": 141,
     "metadata": {},
     "output_type": "execute_result"
    }
   ],
   "source": [
    "len(set(gr_game['gameId'].tolist()))"
   ]
  },
  {
   "cell_type": "code",
   "execution_count": 126,
   "metadata": {},
   "outputs": [
    {
     "data": {
      "text/plain": [
       "9996"
      ]
     },
     "execution_count": 126,
     "metadata": {},
     "output_type": "execute_result"
    }
   ],
   "source": [
    "len(set(master_game['gameId'].tolist()))"
   ]
  },
  {
   "cell_type": "code",
   "execution_count": 140,
   "metadata": {},
   "outputs": [
    {
     "data": {
      "text/plain": [
       "Int64Index([86464, 86465, 86466, 86467, 86468, 86469, 86470, 86471], dtype='int64')"
      ]
     },
     "execution_count": 140,
     "metadata": {},
     "output_type": "execute_result"
    }
   ],
   "source": [
    "chall_game[chall_game['gameId'] == list(set(chall_game['gameId'].tolist()))[10808]].index"
   ]
  },
  {
   "cell_type": "code",
   "execution_count": 139,
   "metadata": {},
   "outputs": [],
   "source": [
    "gr_game = gr_game.append(chall_game.iloc[86464:,:])\n",
    "gr_game.index = range(len(gr_game))"
   ]
  },
  {
   "cell_type": "code",
   "execution_count": 146,
   "metadata": {},
   "outputs": [
    {
     "data": {
      "text/plain": [
       "Int64Index([86432, 86433, 86434, 86435, 86436, 86437, 86438, 86439], dtype='int64')"
      ]
     },
     "execution_count": 146,
     "metadata": {},
     "output_type": "execute_result"
    }
   ],
   "source": [
    "chall_game[chall_game['gameId'] == list(set(chall_game['gameId'].tolist()))[10804]].index"
   ]
  },
  {
   "cell_type": "code",
   "execution_count": 145,
   "metadata": {
    "scrolled": true
   },
   "outputs": [],
   "source": [
    "master_game = master_game.append(chall_game.iloc[86432:86463,:])\n",
    "master_game.index = range(len(master_game))"
   ]
  },
  {
   "cell_type": "code",
   "execution_count": 148,
   "metadata": {},
   "outputs": [
    {
     "data": {
      "text/plain": [
       "Int64Index([79992, 79993, 79994, 79995, 79996, 79997, 79998, 79999], dtype='int64')"
      ]
     },
     "execution_count": 148,
     "metadata": {},
     "output_type": "execute_result"
    }
   ],
   "source": [
    "chall_game[chall_game['gameId'] == list(set(chall_game['gameId'].tolist()))[9999]].index"
   ]
  },
  {
   "cell_type": "code",
   "execution_count": 151,
   "metadata": {},
   "outputs": [],
   "source": [
    "chall_game = chall_game.iloc[:79999,:]"
   ]
  },
  {
   "cell_type": "code",
   "execution_count": 152,
   "metadata": {},
   "outputs": [],
   "source": [
    "chall_game2 = chall_game.sort_values(['gameId','Ranked'])\n",
    "gr_game2 = gr_game.sort_values(['gameId','Ranked'])\n",
    "master_game2 = master_game.sort_values(['gameId','Ranked'])"
   ]
  },
  {
   "cell_type": "code",
   "execution_count": 154,
   "metadata": {},
   "outputs": [],
   "source": [
    "chall_game2.index = range(len(chall_game2))\n",
    "gr_game2.index = range(len(gr_game2))\n",
    "master_game2.index = range(len(master_game2))"
   ]
  },
  {
   "cell_type": "code",
   "execution_count": 156,
   "metadata": {},
   "outputs": [],
   "source": [
    "chall_game2.to_csv('/Users/sinmin-yong/GitHub/studies/Riot_DB/tft_league_dataset/TFT_Challenger_MatchData.csv',index= False)\n",
    "gr_game2.to_csv('/Users/sinmin-yong/GitHub/studies/Riot_DB/tft_league_dataset/TFT_GrandMaster_MatchData.csv',index= False)\n",
    "master_game2.to_csv('/Users/sinmin-yong/GitHub/studies/Riot_DB/tft_league_dataset/TFT_Master_MatchData.csv',index= False)"
   ]
  },
  {
   "cell_type": "code",
   "execution_count": 73,
   "metadata": {},
   "outputs": [],
   "source": [
    "pla_game = pla_game1.append(pla_game2)"
   ]
  },
  {
   "cell_type": "code",
   "execution_count": 86,
   "metadata": {},
   "outputs": [],
   "source": [
    "pla_game.index = range(len(pla_game))\n",
    "dia_game.index = range(len(dia_game))"
   ]
  },
  {
   "cell_type": "code",
   "execution_count": 74,
   "metadata": {},
   "outputs": [],
   "source": [
    "data_cons = dia_game.groupby('gameId')['Ranked'].count().tolist()\n",
    "err_game2 = []\n",
    "\n",
    "for i in range(len(data_cons)):\n",
    "    if data_cons[i] != 8:\n",
    "        print(dia_game.groupby('gameId')['Ranked'].count().keys()[i])\n",
    "        err_game2.append(dia_game.groupby('gameId')['Ranked'].count().keys()[i])"
   ]
  },
  {
   "cell_type": "code",
   "execution_count": null,
   "metadata": {},
   "outputs": [],
   "source": [
    "data_cons = pla_game.groupby('gameId')['Ranked'].count().tolist()\n",
    "err_game2 = []\n",
    "\n",
    "for i in range(len(data_cons)):\n",
    "    if data_cons[i] != 8:\n",
    "        print(pla_game.groupby('gameId')['Ranked'].count().keys()[i])\n",
    "        err_game2.append(pla_game.groupby('gameId')['Ranked'].count().keys()[i])\n",
    "\n",
    "idx = []\n",
    "for i in range(len(err_game2)):\n",
    "    idx += pla_game[pla_game['gameId']==err_game2[i]].index.tolist()\n",
    "    \n",
    "pla_game = pla_game.drop(index = idx)"
   ]
  },
  {
   "cell_type": "code",
   "execution_count": 82,
   "metadata": {},
   "outputs": [
    {
     "data": {
      "text/plain": [
       "9438"
      ]
     },
     "execution_count": 82,
     "metadata": {},
     "output_type": "execute_result"
    }
   ],
   "source": [
    "dia_game['gameId'].nunique()"
   ]
  },
  {
   "cell_type": "code",
   "execution_count": 87,
   "metadata": {},
   "outputs": [],
   "source": [
    "except_pla_game = pla_game['gameId'].unique().tolist()[:562]\n",
    "game_idx = []\n",
    "for i in except_pla_game:\n",
    "    \n",
    "    game_idx += pla_game[pla_game['gameId']==i].index.tolist()"
   ]
  },
  {
   "cell_type": "code",
   "execution_count": 92,
   "metadata": {},
   "outputs": [],
   "source": [
    "dia_game = dia_game.append(pla_game.iloc[game_idx,:])"
   ]
  },
  {
   "cell_type": "code",
   "execution_count": 93,
   "metadata": {},
   "outputs": [],
   "source": [
    "pla_game.drop(index = game_idx,inplace=True)"
   ]
  },
  {
   "cell_type": "code",
   "execution_count": 95,
   "metadata": {},
   "outputs": [],
   "source": [
    "pla_game.index = range(len(pla_game))\n",
    "dia_game.index = range(len(dia_game))"
   ]
  },
  {
   "cell_type": "code",
   "execution_count": 98,
   "metadata": {},
   "outputs": [],
   "source": [
    "real_pla_game = pla_game['gameId'].unique().tolist()[10000:]\n",
    "game_idx = []\n",
    "for i in real_pla_game:\n",
    "    \n",
    "    game_idx += pla_game[pla_game['gameId']==i].index.tolist()\n",
    "    \n",
    "pla_game.drop(index = game_idx,inplace = True)"
   ]
  },
  {
   "cell_type": "code",
   "execution_count": 101,
   "metadata": {},
   "outputs": [],
   "source": [
    "dia_game.to_csv('/Users/sinmin-yong/GitHub/studies/Riot_DB/tft_league_dataset/TFT_Diamond_MatchData.csv',index= False)\n",
    "pla_game.to_csv('/Users/sinmin-yong/GitHub/studies/Riot_DB/tft_league_dataset/TFT_Platinum_MatchData.csv',index= False)"
   ]
  }
 ],
 "metadata": {
  "kernelspec": {
   "display_name": "Python 3",
   "language": "python",
   "name": "python3"
  },
  "language_info": {
   "codemirror_mode": {
    "name": "ipython",
    "version": 3
   },
   "file_extension": ".py",
   "mimetype": "text/x-python",
   "name": "python",
   "nbconvert_exporter": "python",
   "pygments_lexer": "ipython3",
   "version": "3.7.7"
  }
 },
 "nbformat": 4,
 "nbformat_minor": 4
}
