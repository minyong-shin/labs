{
 "cells": [
  {
   "cell_type": "code",
   "execution_count": 18,
   "metadata": {},
   "outputs": [],
   "source": [
    "import requests # 웹 페이지 소스를 얻기 위한 패키지(기본 내장 패키지이다.)\n",
    "from bs4 import BeautifulSoup # 웹 페이지 소스를 얻기 위한 패키지, 더 간단히 얻을 수 있다는 장점이 있다고 한다.\n",
    "from datetime import datetime                                # (!pip install beautifulsoup4 으로 다운받을 수 있다.)\n",
    "import pandas as pd # 데이터를 처리하기 위한 가장 기본적인 패키지\n",
    "import time # 사이트를 불러올 때, 작업 지연시간을 지정해주기 위한 패키지이다. (사이트가 늦게 켜지면 에러가 발생하기 때문)\n",
    "import urllib.request #\n",
    "from selenium import webdriver\n",
    "import json\n",
    "import re     \n",
    "from selenium.webdriver.chrome.options import Options\n",
    "from selenium.webdriver.common.keys import Keys\n",
    "import datetime as dt\n",
    "import numpy as np\n",
    "import pickle\n",
    "import matplotlib\n",
    "\n",
    "import matplotlib.pyplot as plt\n",
    "\n",
    "import numpy as np\n",
    "\n",
    "import pandas as pd\n",
    "import pickle\n",
    "import matplotlib.pyplot as plt\n",
    "import numpy as np\n",
    "import sys\n",
    "import os\n",
    "from pandas.io.json import json_normalize\n",
    "import seaborn as sns\n",
    "import statsmodels.api as sm\n",
    "import requests"
   ]
  },
  {
   "cell_type": "code",
   "execution_count": 19,
   "metadata": {},
   "outputs": [],
   "source": [
    "my_api = 'RGAPI-ce565976-4bd0-46ec-b059-21a5265a0333'"
   ]
  },
  {
   "cell_type": "markdown",
   "metadata": {},
   "source": [
    "# Challenger League"
   ]
  },
  {
   "cell_type": "code",
   "execution_count": 3,
   "metadata": {},
   "outputs": [],
   "source": [
    "base_url = 'https://kr.api.riotgames.com/tft/league/v1/challenger?api_key=' + my_api \n",
    "req = requests.get(base_url)"
   ]
  },
  {
   "cell_type": "code",
   "execution_count": 9,
   "metadata": {},
   "outputs": [
    {
     "name": "stderr",
     "output_type": "stream",
     "text": [
      "/Users/sinmin-yong/anaconda3/lib/python3.7/site-packages/ipykernel_launcher.py:1: FutureWarning: pandas.io.json.json_normalize is deprecated, use pandas.json_normalize instead\n",
      "  \"\"\"Entry point for launching an IPython kernel.\n"
     ]
    }
   ],
   "source": [
    "challenger_user = json_normalize(req.json()['entries'])"
   ]
  },
  {
   "cell_type": "code",
   "execution_count": 16,
   "metadata": {},
   "outputs": [],
   "source": [
    "challenger_user.to_csv('/Users/sinmin-yong/GitHub/studies/Riot_DB/tft_league_user/Challenger_user.csv',index=False)"
   ]
  },
  {
   "cell_type": "markdown",
   "metadata": {},
   "source": [
    "# GrandMaster League"
   ]
  },
  {
   "cell_type": "code",
   "execution_count": 10,
   "metadata": {},
   "outputs": [],
   "source": [
    "base_url = 'https://kr.api.riotgames.com/tft/league/v1/grandmaster?api_key=' + my_api \n",
    "req = requests.get(base_url)"
   ]
  },
  {
   "cell_type": "code",
   "execution_count": 12,
   "metadata": {},
   "outputs": [
    {
     "name": "stderr",
     "output_type": "stream",
     "text": [
      "/Users/sinmin-yong/anaconda3/lib/python3.7/site-packages/ipykernel_launcher.py:1: FutureWarning: pandas.io.json.json_normalize is deprecated, use pandas.json_normalize instead\n",
      "  \"\"\"Entry point for launching an IPython kernel.\n"
     ]
    }
   ],
   "source": [
    "grmaster_user = json_normalize(req.json()['entries'])"
   ]
  },
  {
   "cell_type": "code",
   "execution_count": 17,
   "metadata": {},
   "outputs": [],
   "source": [
    "grmaster_user.to_csv('/Users/sinmin-yong/GitHub/studies/Riot_DB/tft_league_user/GrandMaster_user.csv',index=False)"
   ]
  },
  {
   "cell_type": "markdown",
   "metadata": {},
   "source": [
    "# Master League"
   ]
  },
  {
   "cell_type": "code",
   "execution_count": 13,
   "metadata": {},
   "outputs": [],
   "source": [
    "base_url = 'https://kr.api.riotgames.com/tft/league/v1/master?api_key=' + my_api \n",
    "req = requests.get(base_url)"
   ]
  },
  {
   "cell_type": "code",
   "execution_count": 15,
   "metadata": {},
   "outputs": [
    {
     "name": "stderr",
     "output_type": "stream",
     "text": [
      "/Users/sinmin-yong/anaconda3/lib/python3.7/site-packages/ipykernel_launcher.py:1: FutureWarning: pandas.io.json.json_normalize is deprecated, use pandas.json_normalize instead\n",
      "  \"\"\"Entry point for launching an IPython kernel.\n"
     ]
    }
   ],
   "source": [
    "matser_user = json_normalize(req.json()['entries'])"
   ]
  },
  {
   "cell_type": "code",
   "execution_count": 18,
   "metadata": {},
   "outputs": [],
   "source": [
    "matser_user.to_csv('/Users/sinmin-yong/GitHub/studies/Riot_DB/tft_league_user/matser_user.csv',index=False)"
   ]
  },
  {
   "cell_type": "markdown",
   "metadata": {},
   "source": [
    "# puuid crawler"
   ]
  },
  {
   "cell_type": "markdown",
   "metadata": {},
   "source": [
    "## 1. challenger puuid"
   ]
  },
  {
   "cell_type": "code",
   "execution_count": 3,
   "metadata": {},
   "outputs": [],
   "source": [
    "challenger_user = pd.read_csv('/Users/sinmin-yong/GitHub/studies/Riot_DB/tft_league_dataset/Challenger_user.csv')\n",
    "chall_ls = challenger_user['summonerId'].tolist()"
   ]
  },
  {
   "cell_type": "code",
   "execution_count": null,
   "metadata": {},
   "outputs": [],
   "source": [
    "base_url = 'https://kr.api.riotgames.com/tft/summoner/v1/summoners/{}?api_key=' + my_api\n",
    "\n",
    "\n",
    "puuid_ls = []\n",
    "accountid_ls = []\n",
    "for i in range(len(chall_ls)):\n",
    "    \n",
    "    req = requests.get(base_url.format(chall_ls[i]))\n",
    "    print(i)\n",
    "    \n",
    "    if req.status_code == 200:\n",
    "            pass\n",
    "\n",
    "    elif req.status_code == 429:\n",
    "        print('api cost full : infinite loop start')\n",
    "        print('loop location : ',i)\n",
    "        start_time = time.time()\n",
    "\n",
    "        while True:\n",
    "            if req.status_code == 429:\n",
    "\n",
    "                print('try 10 second wait time')\n",
    "                time.sleep(10)\n",
    "\n",
    "                req = requests.get(base_url.format(chall_ls[i]))\n",
    "                print(req.status_code)\n",
    "\n",
    "            elif req.status_code == 200:\n",
    "                print('total wait time : ', time.time() - start_time)\n",
    "                print('recovery api cost')\n",
    "                break\n",
    "\n",
    "    elif req.status_code == 503:\n",
    "        print('service available error')\n",
    "        start_time = time.time()\n",
    "\n",
    "        while True:\n",
    "            if req.status_code == 503 or req.status_code == 429:\n",
    "\n",
    "                print('try 10 second wait time')\n",
    "                time.sleep(10)\n",
    "\n",
    "                req = requests.get(base_url.format(chall_ls[i]))\n",
    "                print(req.status_code)\n",
    "\n",
    "            elif req.status_code == 200:\n",
    "                print('total error wait time : ', time.time() - start_time)\n",
    "                print('recovery api cost')\n",
    "                break\n",
    "    elif req.status_code == 403: # api갱신이 필요\n",
    "        print('you need api renewal')\n",
    "        print('break')\n",
    "        break\n",
    "        \n",
    "    puuid_ls.append(req.json()['puuid'])\n",
    "    accountid_ls.append(req.json()['accountId'])\n",
    "    \n",
    "challenger_user['puuid'] = puuid_ls\n",
    "challenger_user['accountId'] = accountid_ls"
   ]
  },
  {
   "cell_type": "code",
   "execution_count": 13,
   "metadata": {},
   "outputs": [],
   "source": [
    "challenger_user.to_csv('/Users/sinmin-yong/GitHub/studies/Riot_DB/tft_league_dataset/Challenger_user_final.csv',index = False)"
   ]
  },
  {
   "cell_type": "markdown",
   "metadata": {},
   "source": [
    "## 2. grandmaster puuid"
   ]
  },
  {
   "cell_type": "code",
   "execution_count": 14,
   "metadata": {},
   "outputs": [],
   "source": [
    "gr_user = pd.read_csv('/Users/sinmin-yong/GitHub/studies/Riot_DB/tft_league_dataset/GrandMaster_user.csv')\n",
    "gr_ls = gr_user['summonerId'].tolist()"
   ]
  },
  {
   "cell_type": "code",
   "execution_count": null,
   "metadata": {},
   "outputs": [],
   "source": [
    "base_url = 'https://kr.api.riotgames.com/tft/summoner/v1/summoners/{}?api_key=' + my_api\n",
    "\n",
    "\n",
    "puuid_ls = []\n",
    "accountid_ls = []\n",
    "for i in range(len(gr_ls)):\n",
    "    \n",
    "    req = requests.get(base_url.format(gr_ls[i]))\n",
    "    print(i)\n",
    "    \n",
    "    if req.status_code == 200:\n",
    "            pass\n",
    "\n",
    "    elif req.status_code == 429:\n",
    "        print('api cost full : infinite loop start')\n",
    "        print('loop location : ',i)\n",
    "        start_time = time.time()\n",
    "\n",
    "        while True:\n",
    "            if req.status_code == 429:\n",
    "\n",
    "                print('try 10 second wait time')\n",
    "                time.sleep(10)\n",
    "\n",
    "                req = requests.get(base_url.format(gr_ls[i]))\n",
    "                print(req.status_code)\n",
    "\n",
    "            elif req.status_code == 200:\n",
    "                print('total wait time : ', time.time() - start_time)\n",
    "                print('recovery api cost')\n",
    "                break\n",
    "\n",
    "    elif req.status_code == 503:\n",
    "        print('service available error')\n",
    "        start_time = time.time()\n",
    "\n",
    "        while True:\n",
    "            if req.status_code == 503 or req.status_code == 429:\n",
    "\n",
    "                print('try 10 second wait time')\n",
    "                time.sleep(10)\n",
    "\n",
    "                req = requests.get(base_url.format(gr_ls[i]))\n",
    "                print(req.status_code)\n",
    "\n",
    "            elif req.status_code == 200:\n",
    "                print('total error wait time : ', time.time() - start_time)\n",
    "                print('recovery api cost')\n",
    "                break\n",
    "    elif req.status_code == 403: # api갱신이 필요\n",
    "        print('you need api renewal')\n",
    "        print('break')\n",
    "        break\n",
    "        \n",
    "    puuid_ls.append(req.json()['puuid'])\n",
    "    accountid_ls.append(req.json()['accountId'])\n",
    "    \n",
    "gr_user['puuid'] = puuid_ls\n",
    "gr_user['accountId'] = accountid_ls"
   ]
  },
  {
   "cell_type": "code",
   "execution_count": 16,
   "metadata": {},
   "outputs": [],
   "source": [
    "gr_user.to_csv('/Users/sinmin-yong/GitHub/studies/Riot_DB/tft_league_dataset/GrandMaster_user_final.csv',index = False)"
   ]
  },
  {
   "cell_type": "markdown",
   "metadata": {},
   "source": [
    "## 3. Master user puuid"
   ]
  },
  {
   "cell_type": "code",
   "execution_count": 23,
   "metadata": {},
   "outputs": [],
   "source": [
    "master_user = pd.read_csv('/Users/sinmin-yong/GitHub/studies/Riot_DB/tft_league_dataset/matser_user.csv')"
   ]
  },
  {
   "cell_type": "code",
   "execution_count": 24,
   "metadata": {},
   "outputs": [],
   "source": [
    "gr_ls = master_user['summonerId'].tolist()"
   ]
  },
  {
   "cell_type": "code",
   "execution_count": 26,
   "metadata": {},
   "outputs": [],
   "source": [
    "#1000명만 수집하자\n",
    "gr_ls = gr_ls[:1000]"
   ]
  },
  {
   "cell_type": "code",
   "execution_count": null,
   "metadata": {},
   "outputs": [],
   "source": [
    "base_url = 'https://kr.api.riotgames.com/tft/summoner/v1/summoners/{}?api_key=' + my_api\n",
    "\n",
    "\n",
    "puuid_ls = []\n",
    "accountid_ls = []\n",
    "for i in range(len(gr_ls)):\n",
    "    \n",
    "    try:\n",
    "\n",
    "        req = requests.get(base_url.format(gr_ls[i]))\n",
    "        print(i)\n",
    "\n",
    "        if req.status_code == 200:\n",
    "                pass\n",
    "\n",
    "        elif req.status_code == 429:\n",
    "            print('api cost full : infinite loop start')\n",
    "            print('loop location : ',i)\n",
    "            start_time = time.time()\n",
    "\n",
    "            while True:\n",
    "                if req.status_code == 429:\n",
    "\n",
    "                    print('try 10 second wait time')\n",
    "                    time.sleep(10)\n",
    "\n",
    "                    req = requests.get(base_url.format(gr_ls[i]))\n",
    "                    print(req.status_code)\n",
    "\n",
    "                elif req.status_code == 200:\n",
    "                    print('total wait time : ', time.time() - start_time)\n",
    "                    print('recovery api cost')\n",
    "                    break\n",
    "\n",
    "        elif req.status_code == 503:\n",
    "            print('service available error')\n",
    "            start_time = time.time()\n",
    "\n",
    "            while True:\n",
    "                if req.status_code == 503 or req.status_code == 429:\n",
    "\n",
    "                    print('try 10 second wait time')\n",
    "                    time.sleep(10)\n",
    "\n",
    "                    req = requests.get(base_url.format(gr_ls[i]))\n",
    "                    print(req.status_code)\n",
    "\n",
    "                elif req.status_code == 200:\n",
    "                    print('total error wait time : ', time.time() - start_time)\n",
    "                    print('recovery api cost')\n",
    "                    break\n",
    "        elif req.status_code == 403: # api갱신이 필요\n",
    "            print('you need api renewal')\n",
    "            print('break')\n",
    "            break\n",
    "\n",
    "        puuid_ls.append(req.json()['puuid'])\n",
    "        accountid_ls.append(req.json()['accountId'])\n",
    "    except:\n",
    "        print('error captured : ', i)\n",
    "        pass\n",
    "    \n",
    "master_user['puuid'] = puuid_ls\n",
    "master_user['accountId'] = accountid_ls"
   ]
  },
  {
   "cell_type": "code",
   "execution_count": 32,
   "metadata": {},
   "outputs": [],
   "source": [
    "master_user2 = master_user.iloc[:1000,:]"
   ]
  },
  {
   "cell_type": "code",
   "execution_count": 33,
   "metadata": {
    "scrolled": true
   },
   "outputs": [
    {
     "name": "stderr",
     "output_type": "stream",
     "text": [
      "/Users/sinmin-yong/anaconda3/lib/python3.7/site-packages/ipykernel_launcher.py:1: SettingWithCopyWarning: \n",
      "A value is trying to be set on a copy of a slice from a DataFrame.\n",
      "Try using .loc[row_indexer,col_indexer] = value instead\n",
      "\n",
      "See the caveats in the documentation: https://pandas.pydata.org/pandas-docs/stable/user_guide/indexing.html#returning-a-view-versus-a-copy\n",
      "  \"\"\"Entry point for launching an IPython kernel.\n",
      "/Users/sinmin-yong/anaconda3/lib/python3.7/site-packages/ipykernel_launcher.py:2: SettingWithCopyWarning: \n",
      "A value is trying to be set on a copy of a slice from a DataFrame.\n",
      "Try using .loc[row_indexer,col_indexer] = value instead\n",
      "\n",
      "See the caveats in the documentation: https://pandas.pydata.org/pandas-docs/stable/user_guide/indexing.html#returning-a-view-versus-a-copy\n",
      "  \n"
     ]
    }
   ],
   "source": [
    "master_user2['puuid'] = puuid_ls\n",
    "master_user2['accountId'] = accountid_ls"
   ]
  },
  {
   "cell_type": "code",
   "execution_count": 34,
   "metadata": {},
   "outputs": [
    {
     "data": {
      "text/html": [
       "<div>\n",
       "<style scoped>\n",
       "    .dataframe tbody tr th:only-of-type {\n",
       "        vertical-align: middle;\n",
       "    }\n",
       "\n",
       "    .dataframe tbody tr th {\n",
       "        vertical-align: top;\n",
       "    }\n",
       "\n",
       "    .dataframe thead th {\n",
       "        text-align: right;\n",
       "    }\n",
       "</style>\n",
       "<table border=\"1\" class=\"dataframe\">\n",
       "  <thead>\n",
       "    <tr style=\"text-align: right;\">\n",
       "      <th></th>\n",
       "      <th>summonerId</th>\n",
       "      <th>summonerName</th>\n",
       "      <th>leaguePoints</th>\n",
       "      <th>rank</th>\n",
       "      <th>wins</th>\n",
       "      <th>losses</th>\n",
       "      <th>veteran</th>\n",
       "      <th>inactive</th>\n",
       "      <th>freshBlood</th>\n",
       "      <th>hotStreak</th>\n",
       "      <th>puuid</th>\n",
       "      <th>accountId</th>\n",
       "    </tr>\n",
       "  </thead>\n",
       "  <tbody>\n",
       "    <tr>\n",
       "      <th>0</th>\n",
       "      <td>CxHgHKVlBghtpg5tBbELoN8lbkWSxqCopbar8eE9DRt79GQ</td>\n",
       "      <td>TOBEOK</td>\n",
       "      <td>240</td>\n",
       "      <td>I</td>\n",
       "      <td>29</td>\n",
       "      <td>131</td>\n",
       "      <td>False</td>\n",
       "      <td>False</td>\n",
       "      <td>True</td>\n",
       "      <td>False</td>\n",
       "      <td>McL2ocP1jov-xW3oFUMsLsqyMDHztD2PA2wVcrDfD6BSZJ...</td>\n",
       "      <td>D5tkhjp0XpUgQyesfLbgI6fl0Z_oOdFp9TG5mYS0GnVphEY</td>\n",
       "    </tr>\n",
       "    <tr>\n",
       "      <th>1</th>\n",
       "      <td>5HMWfTK_4WwFZf4YsiIJUt8_5dNm6rNP2P080wNQKiz2nk8</td>\n",
       "      <td>asdfasdfjkll</td>\n",
       "      <td>44</td>\n",
       "      <td>I</td>\n",
       "      <td>26</td>\n",
       "      <td>96</td>\n",
       "      <td>False</td>\n",
       "      <td>False</td>\n",
       "      <td>True</td>\n",
       "      <td>False</td>\n",
       "      <td>sgArySa7vjnA3WoYUafQqaDdYEdBYinkofpdm-hjlXtNni...</td>\n",
       "      <td>FxWvNhkTvsdVa0AO2mVN-szeu-BX_lxVVKsBHXB0boJiMm...</td>\n",
       "    </tr>\n",
       "    <tr>\n",
       "      <th>2</th>\n",
       "      <td>Djec9nS_e4iCTl7VZ7eVWjnmW0II6c7tQ9_wD4tj3MXfdzk</td>\n",
       "      <td>Query</td>\n",
       "      <td>225</td>\n",
       "      <td>I</td>\n",
       "      <td>61</td>\n",
       "      <td>402</td>\n",
       "      <td>False</td>\n",
       "      <td>False</td>\n",
       "      <td>False</td>\n",
       "      <td>False</td>\n",
       "      <td>XhTCotwQ1RvKngvlrudPVMM4XjpMz6p03Nob9aN9cvLKyB...</td>\n",
       "      <td>dfa6fP49FZs3GhJ5YvKqknfU8DF84aett-30n5LCTOP_4Ig</td>\n",
       "    </tr>\n",
       "    <tr>\n",
       "      <th>3</th>\n",
       "      <td>LzN3OZUpQA_e2GjJPXSWuN3GLgivh_hug21_OQnj0gVeww</td>\n",
       "      <td>gg99</td>\n",
       "      <td>272</td>\n",
       "      <td>I</td>\n",
       "      <td>50</td>\n",
       "      <td>325</td>\n",
       "      <td>False</td>\n",
       "      <td>False</td>\n",
       "      <td>True</td>\n",
       "      <td>False</td>\n",
       "      <td>YwLLRqAqeJH8ZohL1JZYhIiNxzoC3dvbpkiVP6-igLcJ3V...</td>\n",
       "      <td>xCzt6GuvOBfrxkfVaH0EcGy-PFZwkGmtoR2atJKZNXvO</td>\n",
       "    </tr>\n",
       "    <tr>\n",
       "      <th>4</th>\n",
       "      <td>CQ5byc2fBBndfQVVmm2TCLP0XQyrIdDScwIM8Qv0LDE2rw</td>\n",
       "      <td>불꽃패드립이기철</td>\n",
       "      <td>38</td>\n",
       "      <td>I</td>\n",
       "      <td>26</td>\n",
       "      <td>154</td>\n",
       "      <td>False</td>\n",
       "      <td>False</td>\n",
       "      <td>False</td>\n",
       "      <td>False</td>\n",
       "      <td>qB8JVON564JmD2_2uhFdEzSwBsPlbPZTPdg4yFqmehJhOC...</td>\n",
       "      <td>6-uN29JUoPOkyfhM58cX4YeyR-OJFEjJe8-IHgJ3CnDp</td>\n",
       "    </tr>\n",
       "    <tr>\n",
       "      <th>...</th>\n",
       "      <td>...</td>\n",
       "      <td>...</td>\n",
       "      <td>...</td>\n",
       "      <td>...</td>\n",
       "      <td>...</td>\n",
       "      <td>...</td>\n",
       "      <td>...</td>\n",
       "      <td>...</td>\n",
       "      <td>...</td>\n",
       "      <td>...</td>\n",
       "      <td>...</td>\n",
       "      <td>...</td>\n",
       "    </tr>\n",
       "    <tr>\n",
       "      <th>995</th>\n",
       "      <td>-DwO5sslWPFS4X3XpjRW-v0faqsKy6oAWy6gJbifRDtWhw</td>\n",
       "      <td>도오비</td>\n",
       "      <td>198</td>\n",
       "      <td>I</td>\n",
       "      <td>39</td>\n",
       "      <td>162</td>\n",
       "      <td>False</td>\n",
       "      <td>False</td>\n",
       "      <td>True</td>\n",
       "      <td>False</td>\n",
       "      <td>l0vTItaUH1gI69RLckxYmcr8EpuIqD2lTDThu7o3anXWOg...</td>\n",
       "      <td>gDsA-DyyMjAN2DQcjfkK_IjtgSFQAXnmGPuWVItw8vh9</td>\n",
       "    </tr>\n",
       "    <tr>\n",
       "      <th>996</th>\n",
       "      <td>fv4olDeA2GY0lp8p-sslD9X_wrT352CO_fGEg8jLVZ3a9l4</td>\n",
       "      <td>AFTV 김새로이</td>\n",
       "      <td>20</td>\n",
       "      <td>I</td>\n",
       "      <td>38</td>\n",
       "      <td>290</td>\n",
       "      <td>False</td>\n",
       "      <td>False</td>\n",
       "      <td>False</td>\n",
       "      <td>False</td>\n",
       "      <td>c2Ztm2iQmeqdPb6Hvz4lWJ3aelCBhlhzT8J7IPR8tgyAyL...</td>\n",
       "      <td>5h039p4DoGNvRtjMAoqSFJNScUBFYuemPQ81QF3uQ5CKXn...</td>\n",
       "    </tr>\n",
       "    <tr>\n",
       "      <th>997</th>\n",
       "      <td>TN6XJMOcTsOBJ5EWfPVZnRCZWFiwIRVK6_ziTzcfQ_8mwo4</td>\n",
       "      <td>LAD 1</td>\n",
       "      <td>152</td>\n",
       "      <td>I</td>\n",
       "      <td>86</td>\n",
       "      <td>544</td>\n",
       "      <td>False</td>\n",
       "      <td>False</td>\n",
       "      <td>True</td>\n",
       "      <td>False</td>\n",
       "      <td>9sdGEjClLVSi5Bzxa0_aQJaEhFi5IH43sio0bIn-suwW8a...</td>\n",
       "      <td>x43eET4Whu8_Fo0LKjBdszW1cyCEoFkvghgoDqK7etLwWP...</td>\n",
       "    </tr>\n",
       "    <tr>\n",
       "      <th>998</th>\n",
       "      <td>2vjxmIX5woHteXl55nc7rf2JhZgzsfLyDJOB42t-Z1163ec</td>\n",
       "      <td>체스원탑</td>\n",
       "      <td>121</td>\n",
       "      <td>I</td>\n",
       "      <td>31</td>\n",
       "      <td>140</td>\n",
       "      <td>False</td>\n",
       "      <td>False</td>\n",
       "      <td>True</td>\n",
       "      <td>False</td>\n",
       "      <td>uqXBOZw2NWAfFyHQsgIppc_l-t8IlNnC7zR3x2AMX9PmsA...</td>\n",
       "      <td>T_vONTARHQv_SIWbSe5jb8QrRQKB31-jTf4mhPh81pxGpy...</td>\n",
       "    </tr>\n",
       "    <tr>\n",
       "      <th>999</th>\n",
       "      <td>GtB4-HqJp-ahfHnZz1WylzmB8clPNtREuRVG_JgeO9mv5Q</td>\n",
       "      <td>악마 아트록스</td>\n",
       "      <td>0</td>\n",
       "      <td>I</td>\n",
       "      <td>56</td>\n",
       "      <td>280</td>\n",
       "      <td>False</td>\n",
       "      <td>False</td>\n",
       "      <td>True</td>\n",
       "      <td>False</td>\n",
       "      <td>XiNZZCFT-4Gk-4q_Y2oLCqRziIWM-GxmykoQxO48yWbAD2...</td>\n",
       "      <td>j3FI2RFZ_kOuNt8bRhlAqw7IpQxebb4RG0Rbsf2fhmOJ</td>\n",
       "    </tr>\n",
       "  </tbody>\n",
       "</table>\n",
       "<p>1000 rows × 12 columns</p>\n",
       "</div>"
      ],
      "text/plain": [
       "                                          summonerId  summonerName  \\\n",
       "0    CxHgHKVlBghtpg5tBbELoN8lbkWSxqCopbar8eE9DRt79GQ        TOBEOK   \n",
       "1    5HMWfTK_4WwFZf4YsiIJUt8_5dNm6rNP2P080wNQKiz2nk8  asdfasdfjkll   \n",
       "2    Djec9nS_e4iCTl7VZ7eVWjnmW0II6c7tQ9_wD4tj3MXfdzk         Query   \n",
       "3     LzN3OZUpQA_e2GjJPXSWuN3GLgivh_hug21_OQnj0gVeww          gg99   \n",
       "4     CQ5byc2fBBndfQVVmm2TCLP0XQyrIdDScwIM8Qv0LDE2rw      불꽃패드립이기철   \n",
       "..                                               ...           ...   \n",
       "995   -DwO5sslWPFS4X3XpjRW-v0faqsKy6oAWy6gJbifRDtWhw           도오비   \n",
       "996  fv4olDeA2GY0lp8p-sslD9X_wrT352CO_fGEg8jLVZ3a9l4     AFTV 김새로이   \n",
       "997  TN6XJMOcTsOBJ5EWfPVZnRCZWFiwIRVK6_ziTzcfQ_8mwo4         LAD 1   \n",
       "998  2vjxmIX5woHteXl55nc7rf2JhZgzsfLyDJOB42t-Z1163ec          체스원탑   \n",
       "999   GtB4-HqJp-ahfHnZz1WylzmB8clPNtREuRVG_JgeO9mv5Q       악마 아트록스   \n",
       "\n",
       "     leaguePoints rank  wins  losses  veteran  inactive  freshBlood  \\\n",
       "0             240    I    29     131    False     False        True   \n",
       "1              44    I    26      96    False     False        True   \n",
       "2             225    I    61     402    False     False       False   \n",
       "3             272    I    50     325    False     False        True   \n",
       "4              38    I    26     154    False     False       False   \n",
       "..            ...  ...   ...     ...      ...       ...         ...   \n",
       "995           198    I    39     162    False     False        True   \n",
       "996            20    I    38     290    False     False       False   \n",
       "997           152    I    86     544    False     False        True   \n",
       "998           121    I    31     140    False     False        True   \n",
       "999             0    I    56     280    False     False        True   \n",
       "\n",
       "     hotStreak                                              puuid  \\\n",
       "0        False  McL2ocP1jov-xW3oFUMsLsqyMDHztD2PA2wVcrDfD6BSZJ...   \n",
       "1        False  sgArySa7vjnA3WoYUafQqaDdYEdBYinkofpdm-hjlXtNni...   \n",
       "2        False  XhTCotwQ1RvKngvlrudPVMM4XjpMz6p03Nob9aN9cvLKyB...   \n",
       "3        False  YwLLRqAqeJH8ZohL1JZYhIiNxzoC3dvbpkiVP6-igLcJ3V...   \n",
       "4        False  qB8JVON564JmD2_2uhFdEzSwBsPlbPZTPdg4yFqmehJhOC...   \n",
       "..         ...                                                ...   \n",
       "995      False  l0vTItaUH1gI69RLckxYmcr8EpuIqD2lTDThu7o3anXWOg...   \n",
       "996      False  c2Ztm2iQmeqdPb6Hvz4lWJ3aelCBhlhzT8J7IPR8tgyAyL...   \n",
       "997      False  9sdGEjClLVSi5Bzxa0_aQJaEhFi5IH43sio0bIn-suwW8a...   \n",
       "998      False  uqXBOZw2NWAfFyHQsgIppc_l-t8IlNnC7zR3x2AMX9PmsA...   \n",
       "999      False  XiNZZCFT-4Gk-4q_Y2oLCqRziIWM-GxmykoQxO48yWbAD2...   \n",
       "\n",
       "                                             accountId  \n",
       "0      D5tkhjp0XpUgQyesfLbgI6fl0Z_oOdFp9TG5mYS0GnVphEY  \n",
       "1    FxWvNhkTvsdVa0AO2mVN-szeu-BX_lxVVKsBHXB0boJiMm...  \n",
       "2      dfa6fP49FZs3GhJ5YvKqknfU8DF84aett-30n5LCTOP_4Ig  \n",
       "3         xCzt6GuvOBfrxkfVaH0EcGy-PFZwkGmtoR2atJKZNXvO  \n",
       "4         6-uN29JUoPOkyfhM58cX4YeyR-OJFEjJe8-IHgJ3CnDp  \n",
       "..                                                 ...  \n",
       "995       gDsA-DyyMjAN2DQcjfkK_IjtgSFQAXnmGPuWVItw8vh9  \n",
       "996  5h039p4DoGNvRtjMAoqSFJNScUBFYuemPQ81QF3uQ5CKXn...  \n",
       "997  x43eET4Whu8_Fo0LKjBdszW1cyCEoFkvghgoDqK7etLwWP...  \n",
       "998  T_vONTARHQv_SIWbSe5jb8QrRQKB31-jTf4mhPh81pxGpy...  \n",
       "999       j3FI2RFZ_kOuNt8bRhlAqw7IpQxebb4RG0Rbsf2fhmOJ  \n",
       "\n",
       "[1000 rows x 12 columns]"
      ]
     },
     "execution_count": 34,
     "metadata": {},
     "output_type": "execute_result"
    }
   ],
   "source": [
    "master_user2"
   ]
  },
  {
   "cell_type": "code",
   "execution_count": 35,
   "metadata": {},
   "outputs": [],
   "source": [
    "master_user2.to_csv('/Users/sinmin-yong/GitHub/studies/Riot_DB/tft_league_dataset/Master_user_final.csv')"
   ]
  }
 ],
 "metadata": {
  "kernelspec": {
   "display_name": "Python 3",
   "language": "python",
   "name": "python3"
  },
  "language_info": {
   "codemirror_mode": {
    "name": "ipython",
    "version": 3
   },
   "file_extension": ".py",
   "mimetype": "text/x-python",
   "name": "python",
   "nbconvert_exporter": "python",
   "pygments_lexer": "ipython3",
   "version": "3.7.7"
  }
 },
 "nbformat": 4,
 "nbformat_minor": 4
}
