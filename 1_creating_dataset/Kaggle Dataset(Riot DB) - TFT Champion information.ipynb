{
 "cells": [
  {
   "cell_type": "code",
   "execution_count": 18,
   "metadata": {},
   "outputs": [],
   "source": [
    "import requests # 웹 페이지 소스를 얻기 위한 패키지(기본 내장 패키지이다.)\n",
    "from bs4 import BeautifulSoup # 웹 페이지 소스를 얻기 위한 패키지, 더 간단히 얻을 수 있다는 장점이 있다고 한다.\n",
    "from datetime import datetime                                # (!pip install beautifulsoup4 으로 다운받을 수 있다.)\n",
    "import pandas as pd # 데이터를 처리하기 위한 가장 기본적인 패키지\n",
    "import time # 사이트를 불러올 때, 작업 지연시간을 지정해주기 위한 패키지이다. (사이트가 늦게 켜지면 에러가 발생하기 때문)\n",
    "import urllib.request #\n",
    "from selenium import webdriver\n",
    "import json\n",
    "import re     \n",
    "from selenium.webdriver.chrome.options import Options\n",
    "from selenium.webdriver.common.keys import Keys\n",
    "import datetime as dt\n",
    "import numpy as np\n",
    "import pickle\n",
    "import matplotlib\n",
    "\n",
    "import matplotlib.pyplot as plt\n",
    "\n",
    "import numpy as np\n",
    "\n",
    "import pandas as pd\n",
    "import pickle\n",
    "import matplotlib.pyplot as plt\n",
    "import numpy as np\n",
    "import sys\n",
    "import os\n",
    "from pandas.io.json import json_normalize\n",
    "import seaborn as sns\n",
    "import statsmodels.api as sm\n",
    "import requests"
   ]
  },
  {
   "cell_type": "code",
   "execution_count": null,
   "metadata": {},
   "outputs": [],
   "source": [
    "pd.read_csv('/Users/sinmin-yong/GitHub/studies/Riot_DB/tft_dataset_ver1/')"
   ]
  },
  {
   "cell_type": "markdown",
   "metadata": {},
   "source": [
    "# 롤체지지 크롤러"
   ]
  },
  {
   "cell_type": "code",
   "execution_count": 13,
   "metadata": {},
   "outputs": [],
   "source": [
    "base_url = 'https://lolchess.gg/champions/set3/malphite'"
   ]
  },
  {
   "cell_type": "code",
   "execution_count": 14,
   "metadata": {},
   "outputs": [],
   "source": [
    "browser = webdriver.Chrome('/Users/sinmin-yong/GitHub/studies/Riot_DB구축/chromedriver')"
   ]
  },
  {
   "cell_type": "code",
   "execution_count": 15,
   "metadata": {},
   "outputs": [],
   "source": [
    "browser.get(base_url)"
   ]
  },
  {
   "cell_type": "code",
   "execution_count": 16,
   "metadata": {},
   "outputs": [],
   "source": [
    "html = browser.page_source"
   ]
  },
  {
   "cell_type": "code",
   "execution_count": 17,
   "metadata": {},
   "outputs": [],
   "source": [
    "soup = BeautifulSoup(html,'html.parser')"
   ]
  },
  {
   "cell_type": "code",
   "execution_count": 20,
   "metadata": {},
   "outputs": [],
   "source": [
    "total_champ = soup.find('div',{'class':'guide-champion'})"
   ]
  },
  {
   "cell_type": "code",
   "execution_count": 22,
   "metadata": {},
   "outputs": [],
   "source": [
    "total_champ2 = total_champ.find('tbody')"
   ]
  },
  {
   "cell_type": "code",
   "execution_count": 29,
   "metadata": {},
   "outputs": [],
   "source": [
    "total_champ3 = total_champ2.find_all('tr')"
   ]
  },
  {
   "cell_type": "code",
   "execution_count": 36,
   "metadata": {},
   "outputs": [],
   "source": [
    "name = total_champ3[0].find('a',{'class':'d-inline-block'})['href'].split('/')[-1]"
   ]
  },
  {
   "cell_type": "code",
   "execution_count": 43,
   "metadata": {},
   "outputs": [],
   "source": [
    "cost = int(total_champ3[0].find('td',{'class':'cost'}).get_text(strip=True))"
   ]
  },
  {
   "cell_type": "code",
   "execution_count": 48,
   "metadata": {},
   "outputs": [],
   "source": [
    "health = int(total_champ3[0].find_all('td',{'class':'stat'})[0].text)"
   ]
  },
  {
   "cell_type": "code",
   "execution_count": 49,
   "metadata": {},
   "outputs": [],
   "source": [
    "defense = int(total_champ3[0].find_all('td',{'class':'stat'})[1].text)"
   ]
  },
  {
   "cell_type": "code",
   "execution_count": 50,
   "metadata": {},
   "outputs": [],
   "source": [
    "attack = int(total_champ3[0].find_all('td',{'class':'stat'})[2].text)"
   ]
  },
  {
   "cell_type": "code",
   "execution_count": 60,
   "metadata": {},
   "outputs": [],
   "source": [
    "if '301' in total_champ3[0].find_all('td',{'class':'stat'})[3].find('img')['src'].split('/')[-1]:\n",
    "    attack_range = 1\n",
    "    \n",
    "elif '302' in total_champ3[0].find_all('td',{'class':'stat'})[3].find('img')['src'].split('/')[-1]:\n",
    "    \n",
    "    attack_range = 2\n",
    "    \n",
    "elif '303' in total_champ3[0].find_all('td',{'class':'stat'})[3].find('img')['src'].split('/')[-1]:\n",
    "    \n",
    "    attack_range = 3\n",
    "\n",
    "elif '304' in total_champ3[0].find_all('td',{'class':'stat'})[3].find('img')['src'].split('/')[-1]:\n",
    "    \n",
    "    attack_range = 4\n",
    "\n",
    "else:\n",
    "    \n",
    "    attack_range = 5"
   ]
  },
  {
   "cell_type": "code",
   "execution_count": 66,
   "metadata": {},
   "outputs": [],
   "source": [
    "speed_of_attack = float(total_champ3[0].find_all('td',{'class':'stat'})[4].text)"
   ]
  },
  {
   "cell_type": "code",
   "execution_count": 69,
   "metadata": {},
   "outputs": [],
   "source": [
    "dps = int(total_champ3[0].find_all('td',{'class':'stat'})[5].text)"
   ]
  },
  {
   "cell_type": "code",
   "execution_count": 76,
   "metadata": {},
   "outputs": [],
   "source": [
    "skill_name = total_champ3[0].find_all('td',{'class':'skill'})[0].find('img')['src'].split('/')[-1].split('.')[0]"
   ]
  },
  {
   "cell_type": "code",
   "execution_count": 81,
   "metadata": {},
   "outputs": [],
   "source": [
    "skill_cost = total_champ3[0].find_all('td',{'class':'skill-cost'})[0].get_text(strip=True)"
   ]
  },
  {
   "cell_type": "code",
   "execution_count": 83,
   "metadata": {},
   "outputs": [],
   "source": [
    "champion_df = pd.DataFrame()\n",
    "for i in range(len(total_champ3)):\n",
    "    name = total_champ3[i].find('a',{'class':'d-inline-block'})['href'].split('/')[-1]\n",
    "    cost = int(total_champ3[i].find('td',{'class':'cost'}).get_text(strip=True))\n",
    "    health = int(total_champ3[i].find_all('td',{'class':'stat'})[0].text)\n",
    "    defense = int(total_champ3[i].find_all('td',{'class':'stat'})[1].text)\n",
    "    attack = int(total_champ3[i].find_all('td',{'class':'stat'})[2].text)\n",
    "    \n",
    "    if '301' in total_champ3[i].find_all('td',{'class':'stat'})[3].find('img')['src'].split('/')[-1]:\n",
    "        attack_range = 1\n",
    "\n",
    "    elif '302' in total_champ3[i].find_all('td',{'class':'stat'})[3].find('img')['src'].split('/')[-1]:\n",
    "\n",
    "        attack_range = 2\n",
    "\n",
    "    elif '303' in total_champ3[i].find_all('td',{'class':'stat'})[3].find('img')['src'].split('/')[-1]:\n",
    "\n",
    "        attack_range = 3\n",
    "\n",
    "    elif '304' in total_champ3[i].find_all('td',{'class':'stat'})[3].find('img')['src'].split('/')[-1]:\n",
    "\n",
    "        attack_range = 4\n",
    "\n",
    "    else:\n",
    "\n",
    "        attack_range = 5\n",
    "        \n",
    "    speed_of_attack = float(total_champ3[i].find_all('td',{'class':'stat'})[4].text)\n",
    "    dps = int(total_champ3[i].find_all('td',{'class':'stat'})[5].text)\n",
    "    skill_name = total_champ3[i].find_all('td',{'class':'skill'})[0].find('img')['src'].split('/')[-1].split('.')[0]\n",
    "    skill_cost = total_champ3[i].find_all('td',{'class':'skill-cost'})[0].get_text(strip=True)\n",
    "    \n",
    "    \n",
    "    champion_df0 = pd.DataFrame({'name': [name],\n",
    "                                 'cost' : [cost],\n",
    "                                 'health' : [health],\n",
    "                                 'defense': [defense],\n",
    "                                 'attack' : [attack],\n",
    "                                 'attack_range': [attack_range],\n",
    "                                 'speed_of_attack' : [speed_of_attack],\n",
    "                                 'dps' : [dps],\n",
    "                                 'skill_name' : [skill_name],\n",
    "                                 'skill_cost' : [skill_cost]})\n",
    "    \n",
    "    champion_df = champion_df.append(champion_df0)"
   ]
  },
  {
   "cell_type": "code",
   "execution_count": null,
   "metadata": {},
   "outputs": [],
   "source": [
    "champion_df"
   ]
  },
  {
   "cell_type": "markdown",
   "metadata": {},
   "source": [
    "# 아이템\n",
    "    - https://developer.riotgames.com/docs/tft\n",
    "    - 해당 사이트에서 아이템 정보를 받아옴 (패치할 때마다 버전 업)"
   ]
  },
  {
   "cell_type": "code",
   "execution_count": 8,
   "metadata": {},
   "outputs": [],
   "source": [
    "with open('/Users/sinmin-yong/GitHub/studies/Riot_DB/tft_dataset_ver1/items.json') as json_file:\n",
    "    json_data = json.load(json_file)"
   ]
  },
  {
   "cell_type": "code",
   "execution_count": 14,
   "metadata": {},
   "outputs": [
    {
     "name": "stderr",
     "output_type": "stream",
     "text": [
      "/Users/sinmin-yong/anaconda3/lib/python3.7/site-packages/ipykernel_launcher.py:1: FutureWarning: pandas.io.json.json_normalize is deprecated, use pandas.json_normalize instead\n",
      "  \"\"\"Entry point for launching an IPython kernel.\n"
     ]
    }
   ],
   "source": [
    "item_df = json_normalize(json_data)\n",
    "item_df.to_csv('/Users/sinmin-yong/GitHub/studies/Riot_DB/tft_league_dataset/TFT_Item_CurrentVersion.csv',index = False)"
   ]
  },
  {
   "cell_type": "code",
   "execution_count": 12,
   "metadata": {},
   "outputs": [],
   "source": [
    "item_df2 = pd.read_csv('/Users/sinmin-yong/GitHub/studies/Riot_DB/tft_league_dataset/TFT_Item_CurrentVersion.csv')"
   ]
  },
  {
   "cell_type": "code",
   "execution_count": null,
   "metadata": {},
   "outputs": [],
   "source": []
  }
 ],
 "metadata": {
  "kernelspec": {
   "display_name": "Python 3",
   "language": "python",
   "name": "python3"
  },
  "language_info": {
   "codemirror_mode": {
    "name": "ipython",
    "version": 3
   },
   "file_extension": ".py",
   "mimetype": "text/x-python",
   "name": "python",
   "nbconvert_exporter": "python",
   "pygments_lexer": "ipython3",
   "version": "3.7.7"
  }
 },
 "nbformat": 4,
 "nbformat_minor": 4
}
