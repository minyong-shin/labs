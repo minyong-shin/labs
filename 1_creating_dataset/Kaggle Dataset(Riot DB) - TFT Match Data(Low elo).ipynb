{
 "cells": [
  {
   "cell_type": "code",
   "execution_count": 1,
   "metadata": {},
   "outputs": [],
   "source": [
    "import requests # 웹 페이지 소스를 얻기 위한 패키지(기본 내장 패키지이다.)\n",
    "from bs4 import BeautifulSoup # 웹 페이지 소스를 얻기 위한 패키지, 더 간단히 얻을 수 있다는 장점이 있다고 한다.\n",
    "from datetime import datetime                                # (!pip install beautifulsoup4 으로 다운받을 수 있다.)\n",
    "import pandas as pd # 데이터를 처리하기 위한 가장 기본적인 패키지\n",
    "import time # 사이트를 불러올 때, 작업 지연시간을 지정해주기 위한 패키지이다. (사이트가 늦게 켜지면 에러가 발생하기 때문)\n",
    "import urllib.request #\n",
    "from selenium import webdriver\n",
    "import json\n",
    "import re     \n",
    "from selenium.webdriver.chrome.options import Options\n",
    "from selenium.webdriver.common.keys import Keys\n",
    "import datetime as dt\n",
    "import numpy as np\n",
    "import pickle\n",
    "import matplotlib\n",
    "\n",
    "import matplotlib.pyplot as plt\n",
    "\n",
    "import numpy as np\n",
    "\n",
    "import pandas as pd\n",
    "import pickle\n",
    "import matplotlib.pyplot as plt\n",
    "import numpy as np\n",
    "import sys\n",
    "import os\n",
    "from pandas.io.json import json_normalize\n",
    "import seaborn as sns\n",
    "import statsmodels.api as sm\n",
    "import requests"
   ]
  },
  {
   "cell_type": "markdown",
   "metadata": {},
   "source": [
    "# 리그 id\n",
    "    실버 : 191d58dd-e138-491d-a71c-68e6c66bcd59\n",
    "    골드 : e1bbf6e2-b727-42b5-be88-a96c16c62e46\n",
    "    플래티넘 : cd7ce02e-7ace-44ea-9d1e-970025bc9de0\n",
    "    다이아 : b22df4f7-d339-414e-8717-0e0dfcea6bf4"
   ]
  },
  {
   "cell_type": "code",
   "execution_count": 2,
   "metadata": {},
   "outputs": [],
   "source": [
    "my_api = 'RGAPI-d281b1cb-e547-41ae-a900-8f5f4a469d4f'"
   ]
  },
  {
   "cell_type": "markdown",
   "metadata": {},
   "source": [
    "# 각 리그 소속 유저 id 추출"
   ]
  },
  {
   "cell_type": "code",
   "execution_count": 3,
   "metadata": {},
   "outputs": [],
   "source": [
    "#다이아\n",
    "base_url = 'https://kr.api.riotgames.com/tft/league/v1/leagues/b22df4f7-d339-414e-8717-0e0dfcea6bf4?api_key='+ my_api\n",
    "req = requests.get(base_url)\n",
    "dia_user = json_normalize(req.json()['entries'])"
   ]
  },
  {
   "cell_type": "code",
   "execution_count": 20,
   "metadata": {},
   "outputs": [],
   "source": [
    "#플래\n",
    "base_url = 'https://kr.api.riotgames.com/tft/league/v1/leagues/cd7ce02e-7ace-44ea-9d1e-970025bc9de0?api_key='+ my_api\n",
    "req = requests.get(base_url)\n",
    "pla_user = json_normalize(req.json()['entries'])"
   ]
  },
  {
   "cell_type": "code",
   "execution_count": 22,
   "metadata": {},
   "outputs": [
    {
     "name": "stderr",
     "output_type": "stream",
     "text": [
      "/Users/sinmin-yong/anaconda3/lib/python3.7/site-packages/ipykernel_launcher.py:4: FutureWarning: pandas.io.json.json_normalize is deprecated, use pandas.json_normalize instead\n",
      "  after removing the cwd from sys.path.\n"
     ]
    }
   ],
   "source": [
    "#골드\n",
    "base_url = 'https://kr.api.riotgames.com/tft/league/v1/leagues/e1bbf6e2-b727-42b5-be88-a96c16c62e46?api_key='+ my_api\n",
    "req = requests.get(base_url)\n",
    "gold_user = json_normalize(req.json()['entries'])"
   ]
  },
  {
   "cell_type": "code",
   "execution_count": 23,
   "metadata": {},
   "outputs": [
    {
     "name": "stderr",
     "output_type": "stream",
     "text": [
      "/Users/sinmin-yong/anaconda3/lib/python3.7/site-packages/ipykernel_launcher.py:4: FutureWarning: pandas.io.json.json_normalize is deprecated, use pandas.json_normalize instead\n",
      "  after removing the cwd from sys.path.\n"
     ]
    }
   ],
   "source": [
    "#실버\n",
    "base_url = 'https://kr.api.riotgames.com/tft/league/v1/leagues/191d58dd-e138-491d-a71c-68e6c66bcd59?api_key='+ my_api\n",
    "req = requests.get(base_url)\n",
    "sil_user = json_normalize(req.json()['entries'])"
   ]
  },
  {
   "cell_type": "markdown",
   "metadata": {},
   "source": [
    "# 각 리그 소속 유저의 puuid 추출"
   ]
  },
  {
   "cell_type": "code",
   "execution_count": 36,
   "metadata": {},
   "outputs": [],
   "source": [
    "def puuid_scrapy(league_df,my_api):\n",
    "    \n",
    "    \n",
    "    puuid_ls = []\n",
    "    account_ls = []\n",
    "    base_url = 'https://kr.api.riotgames.com/tft/summoner/v1/summoners/{}?api_key=' + my_api\n",
    "    for i in range(len(league_df)):\n",
    "\n",
    "        try:\n",
    "            req = requests.get(base_url.format(league_df['summonerId'].iloc[i]))\n",
    "            print(i)\n",
    "\n",
    "            if req.status_code == 200:\n",
    "                    pass\n",
    "\n",
    "            elif req.status_code == 429:\n",
    "                print('api cost full : infinite loop start')\n",
    "                print('loop location : ',i)\n",
    "                start_time = time.time()\n",
    "\n",
    "                while True:\n",
    "                    if req.status_code == 429:\n",
    "\n",
    "                        print('try 10 second wait time')\n",
    "                        time.sleep(10)\n",
    "\n",
    "                        req = requests.get(base_url.format(league_df['summonerId'].iloc[i]))\n",
    "                        print(req.status_code)\n",
    "\n",
    "                    elif req.status_code == 200:\n",
    "                        print('total wait time : ', time.time() - start_time)\n",
    "                        print('recovery api cost')\n",
    "                        break\n",
    "\n",
    "            elif req.status_code == 503:\n",
    "                print('service available error')\n",
    "                start_time = time.time()\n",
    "\n",
    "                while True:\n",
    "                    if req.status_code == 503 or req.status_code == 429:\n",
    "\n",
    "                        print('try 10 second wait time')\n",
    "                        time.sleep(10)\n",
    "\n",
    "                        req = requests.get(base_url.format(league_df['summonerId'].iloc[i]))\n",
    "                        print(req.status_code)\n",
    "\n",
    "                    elif req.status_code == 200:\n",
    "                        print('total error wait time : ', time.time() - start_time)\n",
    "                        print('recovery api cost')\n",
    "                        break\n",
    "            elif req.status_code == 403: # api갱신이 필요\n",
    "                print('you need api renewal')\n",
    "                print('break')\n",
    "                break\n",
    "            \n",
    "            puuid_ls.append(req.json()['puuid'])\n",
    "            account_ls.append(req.json()['accountId'])\n",
    "            \n",
    "        except:\n",
    "            print('error captured' + str(i))\n",
    "            pass\n",
    "        \n",
    "    league_df['puuId'] = puuid_ls\n",
    "    league_df['accountId'] = account_ls\n",
    "    \n",
    "    return league_df"
   ]
  },
  {
   "cell_type": "code",
   "execution_count": null,
   "metadata": {},
   "outputs": [],
   "source": [
    "dia_user_info = puuid_scrapy(dia_user,my_api)\n",
    "dia_user_info.to_csv('/Users/sinmin-yong/GitHub/studies/Riot_DB/tft_league_dataset/TFT_Diamond_user.csv',index= False)"
   ]
  },
  {
   "cell_type": "code",
   "execution_count": null,
   "metadata": {},
   "outputs": [],
   "source": [
    "pla_user_info = puuid_scrapy(pla_user,my_api)\n",
    "pla_user_info.to_csv('/Users/sinmin-yong/GitHub/studies/Riot_DB/tft_league_dataset/TFT_Platinum_user.csv',index= False)"
   ]
  },
  {
   "cell_type": "code",
   "execution_count": null,
   "metadata": {},
   "outputs": [],
   "source": [
    "gold_user_info = puuid_scrapy(gold_user,my_api)\n",
    "gold_user_info.to_csv('/Users/sinmin-yong/GitHub/studies/Riot_DB/tft_league_dataset/TFT_Gold_user.csv',index= False)"
   ]
  },
  {
   "cell_type": "code",
   "execution_count": null,
   "metadata": {},
   "outputs": [],
   "source": [
    "sil_user_info = puuid_scrapy(sil_user,my_api)\n",
    "sil_user_info.to_csv('/Users/sinmin-yong/GitHub/studies/Riot_DB/tft_league_dataset/TFT_Silver_user.csv',index= False)"
   ]
  }
 ],
 "metadata": {
  "kernelspec": {
   "display_name": "Python 3",
   "language": "python",
   "name": "python3"
  },
  "language_info": {
   "codemirror_mode": {
    "name": "ipython",
    "version": 3
   },
   "file_extension": ".py",
   "mimetype": "text/x-python",
   "name": "python",
   "nbconvert_exporter": "python",
   "pygments_lexer": "ipython3",
   "version": "3.7.7"
  }
 },
 "nbformat": 4,
 "nbformat_minor": 4
}
