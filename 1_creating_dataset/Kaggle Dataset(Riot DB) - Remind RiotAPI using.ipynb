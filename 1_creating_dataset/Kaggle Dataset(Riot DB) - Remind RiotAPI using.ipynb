{
 "cells": [
  {
   "cell_type": "code",
   "execution_count": 2,
   "metadata": {},
   "outputs": [],
   "source": [
    "import requests # 웹 페이지 소스를 얻기 위한 패키지(기본 내장 패키지이다.)\n",
    "from bs4 import BeautifulSoup # 웹 페이지 소스를 얻기 위한 패키지, 더 간단히 얻을 수 있다는 장점이 있다고 한다.\n",
    "from datetime import datetime                                # (!pip install beautifulsoup4 으로 다운받을 수 있다.)\n",
    "import pandas as pd # 데이터를 처리하기 위한 가장 기본적인 패키지\n",
    "import time # 사이트를 불러올 때, 작업 지연시간을 지정해주기 위한 패키지이다. (사이트가 늦게 켜지면 에러가 발생하기 때문)\n",
    "import urllib.request #\n",
    "from selenium import webdriver\n",
    "import json\n",
    "import re     \n",
    "from selenium.webdriver.chrome.options import Options\n",
    "from selenium.webdriver.common.keys import Keys\n",
    "import datetime as dt\n",
    "import numpy as np\n",
    "import pickle\n",
    "import matplotlib\n",
    "\n",
    "import matplotlib.pyplot as plt\n",
    "\n",
    "import numpy as np\n",
    "\n",
    "import pandas as pd\n",
    "import pickle\n",
    "import matplotlib.pyplot as plt\n",
    "import numpy as np\n",
    "import sys\n",
    "import os\n",
    "from pandas.io.json import json_normalize\n",
    "import seaborn as sns\n",
    "import statsmodels.api as sm\n",
    "import requests"
   ]
  },
  {
   "cell_type": "markdown",
   "metadata": {},
   "source": [
    "# api 종류 파악\n",
    "    1. champion mastery\n",
    "    2. champion\n",
    "    3. league - exp\n",
    "    4. league\n",
    "    5. lol status\n",
    "    6. lor ranked\n",
    "    7. match\n",
    "    8. spectator\n",
    "    9. summoner\n",
    "    10,11,12 - 롤토체스"
   ]
  },
  {
   "cell_type": "code",
   "execution_count": 124,
   "metadata": {},
   "outputs": [],
   "source": [
    "#api는 하루에 한번씩 갱신해줘야 함\n",
    "my_api = 'RGAPI-633ef56c-d6c9-408f-84b9-febd868b4348'"
   ]
  },
  {
   "cell_type": "markdown",
   "metadata": {},
   "source": [
    "# 1. 소환사 정보 데이터\n",
    "    1. summoner\n",
    "        - encryptedaccountid = 이름으로 입력하는 부분의 결과 값인 accountid\n",
    "        - encryptedpuuid = puuid\n",
    "        - encryptedsummonerid = 유저들의 고유 id 값\n",
    "\n",
    "    -> summoner 데이터는 입력받는 인자 값의 종류가 4개이며 결과값은 한개로 동일"
   ]
  },
  {
   "cell_type": "markdown",
   "metadata": {},
   "source": [
    "### 1-1 account_id 수집\n",
    "    - 챌린저\n",
    "        - 한번에 100개의 데이터를 수집 가능\n",
    "        - 한번 수집하고 2분 대기해야 함\n",
    "    - 그랜드마스터\n",
    "    - 마스터"
   ]
  },
  {
   "cell_type": "markdown",
   "metadata": {},
   "source": [
    "### 1-1-1. 챌린저 데이터 수집"
   ]
  },
  {
   "cell_type": "code",
   "execution_count": 105,
   "metadata": {
    "collapsed": true
   },
   "outputs": [
    {
     "name": "stdout",
     "output_type": "stream",
     "text": [
      "<Response [200]>\n",
      "<Response [200]>\n",
      "<Response [200]>\n",
      "<Response [200]>\n",
      "<Response [200]>\n",
      "<Response [200]>\n",
      "<Response [200]>\n",
      "<Response [200]>\n",
      "<Response [200]>\n",
      "<Response [200]>\n",
      "<Response [200]>\n",
      "<Response [200]>\n",
      "<Response [200]>\n",
      "<Response [200]>\n",
      "<Response [200]>\n",
      "<Response [200]>\n",
      "<Response [200]>\n",
      "<Response [200]>\n",
      "<Response [200]>\n",
      "<Response [200]>\n",
      "<Response [200]>\n",
      "<Response [200]>\n",
      "<Response [200]>\n",
      "<Response [200]>\n",
      "<Response [200]>\n",
      "<Response [200]>\n",
      "<Response [200]>\n",
      "<Response [200]>\n",
      "<Response [200]>\n",
      "<Response [200]>\n",
      "<Response [200]>\n",
      "<Response [200]>\n",
      "<Response [200]>\n",
      "<Response [200]>\n",
      "<Response [200]>\n",
      "<Response [200]>\n",
      "<Response [200]>\n",
      "<Response [200]>\n",
      "<Response [200]>\n",
      "<Response [200]>\n",
      "<Response [200]>\n",
      "<Response [200]>\n",
      "<Response [200]>\n",
      "<Response [200]>\n",
      "<Response [200]>\n",
      "<Response [200]>\n",
      "<Response [200]>\n",
      "<Response [200]>\n",
      "<Response [200]>\n",
      "<Response [200]>\n",
      "<Response [200]>\n",
      "<Response [200]>\n",
      "<Response [200]>\n",
      "<Response [200]>\n",
      "<Response [200]>\n",
      "<Response [200]>\n",
      "<Response [200]>\n",
      "<Response [200]>\n",
      "<Response [200]>\n",
      "<Response [200]>\n",
      "<Response [200]>\n",
      "<Response [200]>\n",
      "<Response [200]>\n",
      "<Response [200]>\n",
      "<Response [200]>\n",
      "<Response [200]>\n",
      "<Response [200]>\n",
      "<Response [200]>\n",
      "<Response [200]>\n",
      "<Response [200]>\n",
      "<Response [200]>\n",
      "<Response [200]>\n",
      "<Response [200]>\n",
      "<Response [200]>\n",
      "<Response [200]>\n",
      "<Response [200]>\n",
      "<Response [200]>\n",
      "<Response [200]>\n",
      "<Response [200]>\n",
      "<Response [200]>\n",
      "<Response [200]>\n",
      "<Response [200]>\n",
      "<Response [200]>\n",
      "<Response [200]>\n",
      "<Response [200]>\n",
      "<Response [200]>\n",
      "<Response [200]>\n",
      "<Response [200]>\n",
      "<Response [200]>\n",
      "<Response [200]>\n",
      "<Response [200]>\n",
      "<Response [200]>\n",
      "<Response [200]>\n",
      "<Response [200]>\n",
      "<Response [200]>\n",
      "<Response [200]>\n",
      "<Response [200]>\n",
      "<Response [200]>\n",
      "<Response [200]>\n",
      "<Response [200]>\n"
     ]
    }
   ],
   "source": [
    "summoner_df = pd.DataFrame()\n",
    "\n",
    "for i in range(len(challenger_df)):\n",
    "    summoner = 'https://kr.api.riotgames.com/lol/summoner/v4/summoners/{}?api_key='.\\\n",
    "                format(challenger_df['summonerId'].iloc[i]) + my_api\n",
    "    \n",
    "    req = requests.get(summoner)\n",
    "    print(req.status_code)\n",
    "    \n",
    "    if req.status_code == 200:\n",
    "        pass\n",
    "    elif req.status_code == 429:\n",
    "        while True: # while loop로 api제한 비용을 풀 수 있을 때까지 실행\n",
    "            if req.status_code == 429:\n",
    "                print('429 delay try 10 second') #대략적으로 110초 기다리면 될 듯한데 10초로 바꿔서 마스터 실험 해봐야할 듯\n",
    "                time.sleep(10)\n",
    "                \n",
    "                summoner = 'https://kr.api.riotgames.com/lol/summoner/v4/summoners/{}?api_key='.\\\n",
    "                        format(challenger_df['summonerId'].iloc[i]) + my_api\n",
    "\n",
    "                req = requests.get(summoner)\n",
    "                print(req.status_code)\n",
    "\n",
    "            elif req.status_code == 200:\n",
    "                print('limit cost resolve')\n",
    "                break\n",
    "        \n",
    "    summoner_df0 = json_normalize(req.json())\n",
    "    \n",
    "    summoner_df = summoner_df.append(summoner_df0)"
   ]
  },
  {
   "cell_type": "code",
   "execution_count": 89,
   "metadata": {},
   "outputs": [],
   "source": [
    "summoner_df_first = summoner_df.iloc[:100,:]\n",
    "#일단 100개 수집됨 request error 탐색해보고 time.sleep걸어야fsummoner_df.iloc[:100,:]"
   ]
  },
  {
   "cell_type": "code",
   "execution_count": 108,
   "metadata": {},
   "outputs": [],
   "source": [
    "summoner_df_first = summoner_df_first.append(summoner_df)"
   ]
  },
  {
   "cell_type": "code",
   "execution_count": 109,
   "metadata": {},
   "outputs": [
    {
     "data": {
      "text/plain": [
       "300"
      ]
     },
     "execution_count": 109,
     "metadata": {},
     "output_type": "execute_result"
    }
   ],
   "source": [
    "len(summoner_df_first)"
   ]
  },
  {
   "cell_type": "code",
   "execution_count": 177,
   "metadata": {},
   "outputs": [],
   "source": [
    "challenger_user = pd.merge(summoner_df_first,\\\n",
    "         challenger_df.loc[:,['summonerId','leaguePoints','rank','wins','losses']],\\\n",
    "         left_on = 'id', right_on = 'summonerId', how='left').drop(columns='summonerId')"
   ]
  },
  {
   "cell_type": "code",
   "execution_count": 179,
   "metadata": {},
   "outputs": [],
   "source": [
    "challenger_user.to_csv('/Users/sinmin-yong/GitHub/studies/Riot_DB/challenger_user.csv')"
   ]
  },
  {
   "cell_type": "code",
   "execution_count": 56,
   "metadata": {},
   "outputs": [],
   "source": [
    "challenger_user = pd.read_csv('/Users/sinmin-yong/GitHub/studies/Riot_DB/challenger_user.csv')"
   ]
  },
  {
   "cell_type": "markdown",
   "metadata": {},
   "source": [
    "### 1-1-2. 그랜드 마스터"
   ]
  },
  {
   "cell_type": "code",
   "execution_count": 130,
   "metadata": {},
   "outputs": [],
   "source": [
    "summoner_df_second = pd.DataFrame()"
   ]
  },
  {
   "cell_type": "code",
   "execution_count": 148,
   "metadata": {
    "collapsed": true
   },
   "outputs": [
    {
     "name": "stdout",
     "output_type": "stream",
     "text": [
      "200\n",
      "200\n",
      "200\n",
      "200\n",
      "200\n",
      "200\n",
      "200\n",
      "200\n",
      "200\n",
      "200\n",
      "200\n",
      "200\n",
      "200\n",
      "200\n",
      "200\n",
      "200\n",
      "200\n",
      "200\n",
      "200\n",
      "200\n",
      "200\n",
      "200\n",
      "200\n",
      "200\n",
      "200\n",
      "200\n",
      "200\n",
      "200\n",
      "200\n",
      "200\n",
      "200\n",
      "200\n",
      "200\n",
      "200\n",
      "200\n",
      "200\n",
      "200\n",
      "200\n",
      "200\n",
      "200\n",
      "200\n",
      "200\n",
      "200\n",
      "200\n",
      "200\n",
      "200\n",
      "200\n",
      "200\n",
      "200\n",
      "200\n",
      "200\n",
      "200\n",
      "200\n",
      "200\n",
      "200\n",
      "200\n",
      "200\n",
      "200\n",
      "200\n",
      "200\n",
      "200\n",
      "200\n",
      "200\n",
      "200\n",
      "200\n",
      "200\n",
      "200\n",
      "200\n",
      "200\n",
      "200\n",
      "200\n",
      "200\n",
      "200\n",
      "200\n",
      "200\n",
      "200\n",
      "200\n",
      "200\n",
      "200\n",
      "200\n",
      "200\n",
      "200\n",
      "200\n",
      "200\n",
      "200\n",
      "200\n",
      "200\n",
      "200\n",
      "200\n",
      "200\n",
      "200\n",
      "200\n",
      "200\n",
      "200\n",
      "200\n",
      "200\n",
      "200\n",
      "200\n",
      "200\n",
      "200\n",
      "429\n",
      "429 delay try 30 second\n",
      "429\n",
      "429 delay try 30 second\n",
      "429\n",
      "429 delay try 30 second\n",
      "429\n",
      "429 delay try 30 second\n",
      "200\n",
      "200\n",
      "200\n",
      "200\n",
      "200\n",
      "200\n",
      "200\n",
      "200\n",
      "200\n",
      "200\n",
      "200\n",
      "200\n",
      "200\n",
      "200\n",
      "200\n",
      "200\n",
      "200\n",
      "200\n",
      "200\n",
      "200\n",
      "200\n",
      "200\n",
      "200\n",
      "200\n",
      "200\n",
      "200\n",
      "200\n",
      "200\n",
      "200\n",
      "200\n",
      "200\n",
      "200\n",
      "200\n",
      "200\n",
      "200\n",
      "200\n",
      "200\n",
      "200\n",
      "200\n",
      "200\n",
      "200\n",
      "200\n",
      "200\n",
      "200\n",
      "200\n",
      "200\n",
      "200\n",
      "200\n",
      "200\n",
      "200\n",
      "200\n",
      "200\n",
      "200\n",
      "200\n",
      "200\n",
      "200\n",
      "200\n",
      "200\n",
      "200\n",
      "200\n",
      "200\n",
      "200\n",
      "200\n",
      "200\n",
      "200\n",
      "200\n",
      "200\n",
      "200\n",
      "200\n",
      "200\n",
      "200\n",
      "200\n",
      "200\n",
      "200\n",
      "200\n",
      "200\n",
      "200\n",
      "200\n",
      "200\n",
      "200\n",
      "200\n",
      "200\n",
      "200\n",
      "200\n",
      "200\n",
      "200\n",
      "200\n",
      "200\n",
      "200\n",
      "200\n",
      "200\n",
      "200\n",
      "200\n",
      "200\n",
      "200\n",
      "200\n",
      "200\n",
      "200\n",
      "200\n",
      "200\n",
      "429\n",
      "429 delay try 30 second\n",
      "429\n",
      "429 delay try 30 second\n",
      "429\n",
      "429 delay try 30 second\n",
      "429\n",
      "429 delay try 30 second\n",
      "200\n",
      "200\n",
      "200\n",
      "200\n",
      "200\n",
      "200\n",
      "200\n",
      "200\n",
      "200\n",
      "200\n",
      "200\n",
      "200\n",
      "200\n",
      "200\n",
      "200\n",
      "200\n",
      "200\n",
      "200\n",
      "200\n",
      "200\n",
      "200\n",
      "200\n",
      "200\n",
      "200\n",
      "200\n",
      "200\n",
      "200\n",
      "200\n",
      "200\n",
      "200\n",
      "200\n",
      "200\n",
      "200\n",
      "200\n",
      "200\n",
      "200\n",
      "200\n",
      "200\n",
      "200\n",
      "200\n",
      "200\n",
      "200\n",
      "200\n",
      "200\n",
      "200\n",
      "200\n",
      "200\n",
      "200\n",
      "200\n",
      "200\n",
      "200\n",
      "200\n",
      "200\n",
      "200\n",
      "200\n",
      "200\n",
      "200\n",
      "200\n",
      "200\n",
      "200\n",
      "200\n",
      "200\n",
      "200\n",
      "200\n",
      "200\n",
      "200\n",
      "200\n",
      "200\n",
      "200\n",
      "200\n",
      "200\n",
      "200\n",
      "200\n",
      "200\n",
      "200\n",
      "200\n",
      "200\n",
      "200\n",
      "200\n",
      "200\n",
      "200\n",
      "200\n",
      "200\n",
      "200\n",
      "200\n",
      "200\n",
      "200\n",
      "200\n",
      "200\n",
      "200\n",
      "200\n",
      "200\n",
      "200\n",
      "200\n",
      "200\n",
      "200\n",
      "200\n",
      "200\n",
      "200\n",
      "200\n",
      "429\n",
      "429 delay try 30 second\n",
      "429\n",
      "429 delay try 30 second\n",
      "429\n",
      "429 delay try 30 second\n",
      "429\n",
      "429 delay try 30 second\n",
      "200\n",
      "200\n",
      "200\n",
      "200\n",
      "200\n",
      "200\n",
      "200\n",
      "200\n",
      "200\n",
      "200\n",
      "200\n",
      "200\n",
      "200\n",
      "200\n",
      "200\n",
      "200\n",
      "200\n",
      "200\n",
      "200\n",
      "200\n",
      "200\n",
      "200\n",
      "200\n",
      "200\n",
      "200\n",
      "200\n",
      "200\n",
      "200\n",
      "200\n",
      "200\n",
      "200\n",
      "200\n",
      "200\n",
      "200\n",
      "200\n",
      "200\n",
      "200\n",
      "200\n",
      "200\n",
      "200\n",
      "200\n",
      "200\n",
      "200\n",
      "200\n",
      "200\n",
      "200\n",
      "200\n",
      "200\n",
      "200\n",
      "200\n",
      "200\n",
      "200\n",
      "200\n",
      "200\n",
      "200\n",
      "200\n",
      "200\n",
      "200\n",
      "200\n",
      "200\n",
      "200\n",
      "200\n",
      "200\n",
      "200\n",
      "200\n",
      "200\n",
      "200\n",
      "200\n",
      "200\n",
      "200\n",
      "200\n",
      "200\n",
      "200\n",
      "200\n",
      "200\n",
      "200\n",
      "200\n",
      "200\n",
      "200\n",
      "200\n",
      "200\n",
      "200\n",
      "200\n",
      "200\n",
      "200\n",
      "200\n",
      "200\n",
      "200\n",
      "200\n",
      "200\n",
      "200\n",
      "200\n",
      "200\n",
      "200\n",
      "200\n",
      "200\n",
      "200\n",
      "200\n",
      "200\n",
      "200\n"
     ]
    }
   ],
   "source": [
    "summoner_df = pd.DataFrame()\n",
    "\n",
    "for i in range(len(grmaster_df)):\n",
    "    summoner = 'https://kr.api.riotgames.com/lol/summoner/v4/summoners/{}?api_key='.\\\n",
    "                format(grmaster_df['summonerId'].iloc[i]) + my_api\n",
    "    \n",
    "    req = requests.get(summoner)\n",
    "    print(req.status_code)\n",
    "    \n",
    "    if req.status_code == 200:\n",
    "        pass\n",
    "    elif req.status_code == 429:\n",
    "        while True: # while loop because of riot api cost\n",
    "            if req.status_code == 429: #429 error is api cost issue\n",
    "                print('429 delay try 10 second') #approximate 110 second wait\n",
    "                time.sleep(10)\n",
    "                \n",
    "                summoner = 'https://kr.api.riotgames.com/lol/summoner/v4/summoners/{}?api_key='.\\\n",
    "                        format(grmaster_df['summonerId'].iloc[i]) + my_api\n",
    "\n",
    "                req = requests.get(summoner)\n",
    "                print(req.status_code)\n",
    "\n",
    "            elif req.status_code == 200:\n",
    "                print('limit cost resolve')\n",
    "                break\n",
    "        \n",
    "    summoner_df0 = json_normalize(req.json())\n",
    "    \n",
    "    summoner_df = summoner_df.append(summoner_df0)"
   ]
  },
  {
   "cell_type": "code",
   "execution_count": 150,
   "metadata": {},
   "outputs": [
    {
     "name": "stderr",
     "output_type": "stream",
     "text": [
      "/Users/sinmin-yong/opt/anaconda3/lib/python3.7/site-packages/pandas/core/frame.py:7123: FutureWarning: Sorting because non-concatenation axis is not aligned. A future version\n",
      "of pandas will change to not sort by default.\n",
      "\n",
      "To accept the future behavior, pass 'sort=False'.\n",
      "\n",
      "To retain the current behavior and silence the warning, pass 'sort=True'.\n",
      "\n",
      "  sort=sort,\n"
     ]
    }
   ],
   "source": [
    "summoner_df_second = summoner_df_second.append(summoner_df)"
   ]
  },
  {
   "cell_type": "code",
   "execution_count": 152,
   "metadata": {},
   "outputs": [
    {
     "data": {
      "text/plain": [
       "700"
      ]
     },
     "execution_count": 152,
     "metadata": {},
     "output_type": "execute_result"
    }
   ],
   "source": [
    "len(summoner_df_second)"
   ]
  },
  {
   "cell_type": "code",
   "execution_count": 174,
   "metadata": {},
   "outputs": [],
   "source": [
    "grmaster_user = pd.merge(summoner_df_second,\\\n",
    "         grmaster_df.loc[:,['summonerId','leaguePoints','rank','wins','losses']],\\\n",
    "         left_on = 'id', right_on = 'summonerId', how='left').drop(columns='summonerId')"
   ]
  },
  {
   "cell_type": "code",
   "execution_count": 176,
   "metadata": {},
   "outputs": [],
   "source": [
    "grmaster_user.to_csv('/Users/sinmin-yong/GitHub/studies/Riot_DB/grandmaster_user.csv')"
   ]
  },
  {
   "cell_type": "markdown",
   "metadata": {},
   "source": [
    "### 1-1-3. 마스터 데이터"
   ]
  },
  {
   "cell_type": "code",
   "execution_count": null,
   "metadata": {},
   "outputs": [],
   "source": [
    "summoner_df = pd.DataFrame()\n",
    "\n",
    "for i in range(len(master_df)):\n",
    "    summoner = 'https://kr.api.riotgames.com/lol/summoner/v4/summoners/{}?api_key='.\\\n",
    "                format(master_df['summonerId'].iloc[i]) + my_api\n",
    "    \n",
    "    req = requests.get(summoner)\n",
    "    print(req.status_code)\n",
    "    \n",
    "    if req.status_code == 200:\n",
    "        pass\n",
    "    elif req.status_code == 429:\n",
    "        while True: # while loop로 api제한 비용을 풀 수 있을 때까지 실행\n",
    "            if req.status_code == 429:\n",
    "                print('429 delay try 10 second') #대략적으로 110초 기다리면 될 듯한데 10초로 바꿔서 마스터 실험 해봐야할 듯\n",
    "                time.sleep(10)\n",
    "                \n",
    "                summoner = 'https://kr.api.riotgames.com/lol/summoner/v4/summoners/{}?api_key='.\\\n",
    "                        format(master_df['summonerId'].iloc[i]) + my_api\n",
    "\n",
    "                req = requests.get(summoner)\n",
    "                print(req.status_code)\n",
    "\n",
    "            elif req.status_code == 200:\n",
    "                print('limit cost resolve')\n",
    "                break\n",
    "        \n",
    "    summoner_df0 = json_normalize(req.json())\n",
    "    \n",
    "    summoner_df = summoner_df.append(summoner_df0)"
   ]
  },
  {
   "cell_type": "code",
   "execution_count": 181,
   "metadata": {},
   "outputs": [],
   "source": [
    "master_user0 = summoner_df"
   ]
  },
  {
   "cell_type": "code",
   "execution_count": 184,
   "metadata": {},
   "outputs": [],
   "source": [
    "master_user =  pd.merge(master_user0,\\\n",
    "         master_df.loc[:,['summonerId','leaguePoints','rank','wins','losses']],\\\n",
    "         left_on = 'id', right_on = 'summonerId', how='left').drop(columns='summonerId')"
   ]
  },
  {
   "cell_type": "code",
   "execution_count": 189,
   "metadata": {},
   "outputs": [],
   "source": [
    "master_user.to_csv('/Users/sinmin-yong/GitHub/studies/Riot_DB/master_user.csv')"
   ]
  },
  {
   "cell_type": "markdown",
   "metadata": {},
   "source": [
    "# Spectator(관전 / 구경꾼?)\n",
    "    - 현재 게임중인 정보\n",
    "    - encryptedsummonerid 값을 인자로 넣음"
   ]
  },
  {
   "cell_type": "markdown",
   "metadata": {},
   "source": [
    "# 3. League\n",
    "    - 마스터, 그마, 챌린저 리그 정보를 얻을 수 있음\n",
    "        - 현 리그에 속해 있는 소환사 정보를 알 수 있음\n",
    "    - 리그에서 summoner id 를 입력하면 원하는 소환사의 리그정보를 얻을 수 있음\n",
    "    - 각 티어별로 리그아이디가 존재(같은 티어면 같은 리그아이디를 갖는 듯)"
   ]
  },
  {
   "cell_type": "markdown",
   "metadata": {},
   "source": [
    "### 3-1. challenger"
   ]
  },
  {
   "cell_type": "code",
   "execution_count": 67,
   "metadata": {},
   "outputs": [],
   "source": [
    "# 챌린저 데이터 수집\n",
    "chall = 'https://kr.api.riotgames.com/lol/league/v4/challengerleagues/by-queue/RANKED_SOLO_5x5?api_key=' + my_api\n",
    "req = requests.get(chall)\n",
    "challenger_df = json_normalize(req.json()['entries'])\n",
    "\n",
    "challenger_df = challenger_df.sort_values('leaguePoints',ascending = False)"
   ]
  },
  {
   "cell_type": "markdown",
   "metadata": {},
   "source": [
    "### 3-2. grandmaster"
   ]
  },
  {
   "cell_type": "code",
   "execution_count": 57,
   "metadata": {},
   "outputs": [],
   "source": [
    "# 챌린저 데이터 수집\n",
    "grmaster = 'https://kr.api.riotgames.com/lol/league/v4/grandmasterleagues/by-queue/RANKED_SOLO_5x5?api_key=' + my_api\n",
    "req = requests.get(grmaster)\n",
    "grmaster_df = json_normalize(req.json()['entries'])\n",
    "\n",
    "grmaster_df = grmaster_df.sort_values('leaguePoints',ascending = False)"
   ]
  },
  {
   "cell_type": "markdown",
   "metadata": {},
   "source": [
    "### 3-3. master"
   ]
  },
  {
   "cell_type": "code",
   "execution_count": 54,
   "metadata": {},
   "outputs": [],
   "source": [
    "# 챌린저 데이터 수집\n",
    "master = 'https://kr.api.riotgames.com/lol/league/v4/masterleagues/by-queue/RANKED_SOLO_5x5?api_key=' + my_api\n",
    "req = requests.get(master)\n",
    "master_df = json_normalize(req.json()['entries'])\n",
    "\n",
    "master_df = master_df.sort_values('leaguePoints',ascending = False)"
   ]
  },
  {
   "cell_type": "markdown",
   "metadata": {},
   "source": [
    "# 4.Match\n",
    "    - 경기 데이터를 불러오기 위해서는 gameid가 있어야 함 (gameid = matchid)\n",
    "        - gameid를 불러오기 위해서는 유저별 encryptedaccountid를 통해서 각 유저의 gameid를 불러올 수 있음\n",
    "        - 이때 게임별 10명이 참가하므로 gameid가 중복되는 케이스가 존재\n",
    "    - gameid를 통해서 불러온 경기 데이터에서는 알 수 있는 정보\n",
    "        - Teamstats , participantsstat\n",
    "    - tournamentcode는 어떤 인자를 뜻하지?"
   ]
  },
  {
   "cell_type": "markdown",
   "metadata": {},
   "source": [
    "### 4-0. 유저별 최소 300개씩 데이터 get\n",
    "    - default 0-100"
   ]
  },
  {
   "cell_type": "code",
   "execution_count": 52,
   "metadata": {},
   "outputs": [],
   "source": [
    "match_gameid_url = 'https://kr.api.riotgames.com/lol/match/v4/matchlists/by-account/{}?endIndex={}&beginIndex={}'\n",
    "\n",
    "req = requests.get(match_gameid_url.format(mastergame_df['accountId'].iloc[0],200,100),\\\n",
    "                  headers = {\n",
    "    \"User-Agent\": \"Mozilla/5.0 (Macintosh; Intel Mac OS X 10_15_2) AppleWebKit/537.36 (KHTML, like Gecko) Chrome/80.0.3987.149 Safari/537.36\",\n",
    "    \"Accept-Language\": \"ko-KR,ko;q=0.9,en-US;q=0.8,en;q=0.7\",\n",
    "    \"Accept-Charset\": \"application/x-www-form-urlencoded; charset=UTF-8\",\n",
    "    \"Origin\": \"https://developer.riotgames.com\",\n",
    "    \"X-Riot-Token\": \"RGAPI-53aa2568-e58c-4c7b-8d30-4d62bf7795c6\"\n",
    "})"
   ]
  },
  {
   "cell_type": "markdown",
   "metadata": {},
   "source": [
    "### 4-1. challenger gameid 수집\n",
    "    - 각 유저별 100게임씩만 가져올 예정"
   ]
  },
  {
   "cell_type": "code",
   "execution_count": null,
   "metadata": {},
   "outputs": [],
   "source": [
    "challenger_user = pd.read_csv('/Users/sinmin-yong/GitHub/studies/Riot_DB/challenger_user.csv')"
   ]
  },
  {
   "cell_type": "code",
   "execution_count": null,
   "metadata": {},
   "outputs": [],
   "source": [
    "challengergame_df = pd.DataFrame()\n",
    "match_gameid_url = 'https://kr.api.riotgames.com/lol/match/v4/matchlists/by-account/{}?endIndex={}&beginIndex={}'\n",
    "\n",
    "for j in [100,200]: #200게임 이상 없는 유저는?? --> totalgame 인자를 구할 수 있음\n",
    "    for i in range(len(challenger_user)):\n",
    "    \n",
    "        req = requests.get(match_gameid_url.format(challenger_user['accountId'].iloc[i],j+100,j),\\\n",
    "                              headers = {\n",
    "                                        \"User-Agent\": \"Mozilla/5.0 (Macintosh; Intel Mac OS X 10_15_2) AppleWebKit/537.36 (KHTML, like Gecko) Chrome/80.0.3987.149 Safari/537.36\",\n",
    "                                        \"Accept-Language\": \"ko-KR,ko;q=0.9,en-US;q=0.8,en;q=0.7\",\n",
    "                                        \"Accept-Charset\": \"application/x-www-form-urlencoded; charset=UTF-8\",\n",
    "                                        \"Origin\": \"https://developer.riotgames.com\",\n",
    "                                        \"X-Riot-Token\": \"RGAPI-53aa2568-e58c-4c7b-8d30-4d62bf7795c6\"\n",
    "                                    })\n",
    "        print(req.status_code)\n",
    "\n",
    "        if req.status_code == 200:\n",
    "            pass\n",
    "        elif req.status_code == 429:\n",
    "            print('api cost full : infinite loop start')\n",
    "\n",
    "            start_time = time.time()\n",
    "\n",
    "            while True:\n",
    "                if req.status_code == 429:\n",
    "\n",
    "                    print('try 10 second wait time')\n",
    "                    time.sleep(10)\n",
    "\n",
    "                    req = requests.get(match_gameid_url.format(challenger_user['accountId'].iloc[i],j+100,j),\\\n",
    "                              headers = {\n",
    "                                        \"User-Agent\": \"Mozilla/5.0 (Macintosh; Intel Mac OS X 10_15_2) AppleWebKit/537.36 (KHTML, like Gecko) Chrome/80.0.3987.149 Safari/537.36\",\n",
    "                                        \"Accept-Language\": \"ko-KR,ko;q=0.9,en-US;q=0.8,en;q=0.7\",\n",
    "                                        \"Accept-Charset\": \"application/x-www-form-urlencoded; charset=UTF-8\",\n",
    "                                        \"Origin\": \"https://developer.riotgames.com\",\n",
    "                                        \"X-Riot-Token\": \"RGAPI-53aa2568-e58c-4c7b-8d30-4d62bf7795c6\"\n",
    "                                    })\n",
    "                    print(req.status_code)\n",
    "\n",
    "                elif req.status_code == 200:\n",
    "                    print('total wait time : ', time.time() - start_time)\n",
    "                    print('recovery api cost')\n",
    "                    break\n",
    "                    \n",
    "        if req.json()['totalGames'] > j :\n",
    "            game_df0 = json_normalize(req.json()['matches']).loc[:,['gameId','season','role','lane']]\n",
    "            game_df0['accountId'] = challenger_user['accountId'].iloc[i]\n",
    "\n",
    "            challengergame_df = challengergame_df.append(game_df0)\n",
    "        elif req.json()['totalGames'] < j:\n",
    "            print('This user play the game ' + str(j) + ' under')\n",
    "            continue\n",
    "\n",
    "            "
   ]
  },
  {
   "cell_type": "code",
   "execution_count": 24,
   "metadata": {},
   "outputs": [],
   "source": [
    "challengergame_df.to_csv('/Users/sinmin-yong/GitHub/studies/Riot_DB/challenger_match.csv')"
   ]
  },
  {
   "cell_type": "code",
   "execution_count": 17,
   "metadata": {},
   "outputs": [],
   "source": [
    "challengergame_df = pd.read_csv('/Users/sinmin-yong/GitHub/studies/Riot_DB/challenger_match.csv')"
   ]
  },
  {
   "cell_type": "code",
   "execution_count": 74,
   "metadata": {},
   "outputs": [],
   "source": [
    "challengergame_df.to_csv('/Users/sinmin-yong/GitHub/studies/Riot_DB/challenger_match_V2.csv')"
   ]
  },
  {
   "cell_type": "markdown",
   "metadata": {},
   "source": [
    "### 4-2. grandmaster gameid 수집\n",
    "    - 각 유저별 100게임씩만 가져올 예정"
   ]
  },
  {
   "cell_type": "code",
   "execution_count": 75,
   "metadata": {},
   "outputs": [],
   "source": [
    "grmaster_user = pd.read_csv('/Users/sinmin-yong/GitHub/studies/Riot_DB/grandmaster_user.csv')"
   ]
  },
  {
   "cell_type": "code",
   "execution_count": null,
   "metadata": {},
   "outputs": [],
   "source": [
    "grmastergame_df = pd.DataFrame()\n",
    "match_gameid_url = 'https://kr.api.riotgames.com/lol/match/v4/matchlists/by-account/{}?endIndex={}&beginIndex={}'\n",
    "\n",
    "for j in [100,200]:\n",
    "    for i in range(len(grmaster_user)):\n",
    "        try:\n",
    "\n",
    "            req = requests.get(match_gameid_url.format(grmaster_user['accountId'].iloc[i],j+100,j),\\\n",
    "                                  headers = {\n",
    "                                            \"User-Agent\": \"Mozilla/5.0 (Macintosh; Intel Mac OS X 10_15_2) AppleWebKit/537.36 (KHTML, like Gecko) Chrome/80.0.3987.149 Safari/537.36\",\n",
    "                                            \"Accept-Language\": \"ko-KR,ko;q=0.9,en-US;q=0.8,en;q=0.7\",\n",
    "                                            \"Accept-Charset\": \"application/x-www-form-urlencoded; charset=UTF-8\",\n",
    "                                            \"Origin\": \"https://developer.riotgames.com\",\n",
    "                                            \"X-Riot-Token\": \"RGAPI-53aa2568-e58c-4c7b-8d30-4d62bf7795c6\"\n",
    "                                        })\n",
    "            print(req.status_code)\n",
    "\n",
    "            if req.status_code == 200:\n",
    "                pass\n",
    "\n",
    "            elif req.status_code == 429:\n",
    "                print('api cost full : infinite loop start')\n",
    "                print('loop location : ',i)\n",
    "                start_time = time.time()\n",
    "\n",
    "                while True:\n",
    "                    if req.status_code == 429:\n",
    "\n",
    "                        print('try 10 second wait time')\n",
    "                        time.sleep(10)\n",
    "\n",
    "                        req = requests.get(match_gameid_url.format(grmaster_user['accountId'].iloc[i],j+100,j),\\\n",
    "                                  headers = {\n",
    "                                            \"User-Agent\": \"Mozilla/5.0 (Macintosh; Intel Mac OS X 10_15_2) AppleWebKit/537.36 (KHTML, like Gecko) Chrome/80.0.3987.149 Safari/537.36\",\n",
    "                                            \"Accept-Language\": \"ko-KR,ko;q=0.9,en-US;q=0.8,en;q=0.7\",\n",
    "                                            \"Accept-Charset\": \"application/x-www-form-urlencoded; charset=UTF-8\",\n",
    "                                            \"Origin\": \"https://developer.riotgames.com\",\n",
    "                                            \"X-Riot-Token\": \"RGAPI-53aa2568-e58c-4c7b-8d30-4d62bf7795c6\"\n",
    "                                        })\n",
    "                        print(req.status_code)\n",
    "\n",
    "                    elif req.status_code == 200:\n",
    "                        print('total wait time : ', time.time() - start_time)\n",
    "                        print('recovery api cost')\n",
    "                        break\n",
    "\n",
    "            elif req.status_code == 503:\n",
    "                print('service available error')\n",
    "                start_time = time.time()\n",
    "\n",
    "                while True:\n",
    "                    if req.status_code == 503 or req.status_code == 429:\n",
    "\n",
    "                        print('try 10 second wait time')\n",
    "                        time.sleep(10)\n",
    "\n",
    "                        req = requests.get(match_gameid_url.format(grmaster_user['accountId'].iloc[i],j+100,j),\\\n",
    "                                  headers = {\n",
    "                                            \"User-Agent\": \"Mozilla/5.0 (Macintosh; Intel Mac OS X 10_15_2) AppleWebKit/537.36 (KHTML, like Gecko) Chrome/80.0.3987.149 Safari/537.36\",\n",
    "                                            \"Accept-Language\": \"ko-KR,ko;q=0.9,en-US;q=0.8,en;q=0.7\",\n",
    "                                            \"Accept-Charset\": \"application/x-www-form-urlencoded; charset=UTF-8\",\n",
    "                                            \"Origin\": \"https://developer.riotgames.com\",\n",
    "                                            \"X-Riot-Token\": \"RGAPI-53aa2568-e58c-4c7b-8d30-4d62bf7795c6\"\n",
    "                                        })\n",
    "                        print(req.status_code)\n",
    "\n",
    "                    elif req.status_code == 200:\n",
    "                        print('total error wait time : ', time.time() - start_time)\n",
    "                        print('recovery api cost')\n",
    "                        break\n",
    "            \n",
    "            if req.json()['totalGames'] > j :\n",
    "                game_df0 = json_normalize(req.json()['matches']).loc[:,['gameId','season','role','lane']]\n",
    "                game_df0['accountId'] = grmaster_user['accountId'].iloc[i]\n",
    "\n",
    "                grmastergame_df = grmastergame_df.append(game_df0) \n",
    "            elif req.json()['totalGames'] < j:\n",
    "                print('This user play the game ' + str(j) + ' under')\n",
    "                continue\n",
    "            \n",
    "        except: #SSLError - 에러가 뜨지 않을 때까지 반복\n",
    "            print('Error type : ',sys.exc_info()[0])\n",
    "            print('에러 탈출 위한 while문 실행 / loop location : ',i)\n",
    "            while True:\n",
    "                try:\n",
    "                    print('try 10 second error wait time')\n",
    "                    time.sleep(10)\n",
    "\n",
    "                    req = requests.get(match_gameid_url.format(grmaster_user['accountId'].iloc[i],j+100,j),\\\n",
    "                                  headers = {\n",
    "                                            \"User-Agent\": \"Mozilla/5.0 (Macintosh; Intel Mac OS X 10_15_2) AppleWebKit/537.36 (KHTML, like Gecko) Chrome/80.0.3987.149 Safari/537.36\",\n",
    "                                            \"Accept-Language\": \"ko-KR,ko;q=0.9,en-US;q=0.8,en;q=0.7\",\n",
    "                                            \"Accept-Charset\": \"application/x-www-form-urlencoded; charset=UTF-8\",\n",
    "                                            \"Origin\": \"https://developer.riotgames.com\",\n",
    "                                            \"X-Riot-Token\": \"RGAPI-53aa2568-e58c-4c7b-8d30-4d62bf7795c6\"\n",
    "                                        })\n",
    "                    print('non_error - escape / req_status_code : ',req.status_code)\n",
    "\n",
    "                    break # 에러가 뜨지 않는다면 while문 탈출\n",
    "\n",
    "                except: #계속 에러가 뜬다면? 계속 while문 돌도록\n",
    "                    print('error continue')\n",
    "\n",
    "            #while문에서 나오면 동작해야할 코드\n",
    "            print('Escape code')\n",
    "            if req.json()['totalGames'] > j :\n",
    "                game_df0 = json_normalize(req.json()['matches']).loc[:,['gameId','season','role','lane']]\n",
    "                game_df0['accountId'] = grmaster_user['accountId'].iloc[i]\n",
    "\n",
    "                grmastergame_df = grmastergame_df.append(game_df0) \n",
    "                print(i+'번 째 Loop location에 대한 데이터 수집 완료')\n",
    "                pass #마지막 error문 탈출\n",
    "            elif req.json()['totalGames'] < j:\n",
    "                print('This user play the game ' + str(j) + ' under')\n",
    "                continue"
   ]
  },
  {
   "cell_type": "code",
   "execution_count": 77,
   "metadata": {},
   "outputs": [],
   "source": [
    "grmastergame_df.to_csv('/Users/sinmin-yong/GitHub/studies/Riot_DB/grandmaster_match_V2.csv')"
   ]
  },
  {
   "cell_type": "code",
   "execution_count": 248,
   "metadata": {},
   "outputs": [],
   "source": [
    "grmastergame_df.to_csv('/Users/sinmin-yong/GitHub/studies/Riot_DB/grandmaster_match.csv')"
   ]
  },
  {
   "cell_type": "code",
   "execution_count": null,
   "metadata": {},
   "outputs": [],
   "source": []
  },
  {
   "cell_type": "markdown",
   "metadata": {},
   "source": [
    "### 4-3. master gameid 수집"
   ]
  },
  {
   "cell_type": "code",
   "execution_count": 8,
   "metadata": {},
   "outputs": [],
   "source": [
    "mastergame_df = pd.read_csv('/Users/sinmin-yong/GitHub/studies/Riot_DB/master_match.csv')"
   ]
  },
  {
   "cell_type": "code",
   "execution_count": 78,
   "metadata": {},
   "outputs": [],
   "source": [
    "master_user = pd.read_csv('/Users/sinmin-yong/GitHub/studies/Riot_DB/master_user.csv')"
   ]
  },
  {
   "cell_type": "code",
   "execution_count": null,
   "metadata": {},
   "outputs": [],
   "source": [
    "mastergame_df = pd.DataFrame()\n",
    "match_gameid_url = 'https://kr.api.riotgames.com/lol/match/v4/matchlists/by-account/{}?endIndex={}&beginIndex={}'\n",
    "\n",
    "for j in [100,200]:\n",
    "    for i in range(len(master_user)):\n",
    "        try:\n",
    "\n",
    "            req = requests.get(match_gameid_url.format(master_user['accountId'].iloc[i],j+100,j),\\\n",
    "                                  headers = {\n",
    "                                            \"User-Agent\": \"Mozilla/5.0 (Macintosh; Intel Mac OS X 10_15_2) AppleWebKit/537.36 (KHTML, like Gecko) Chrome/80.0.3987.149 Safari/537.36\",\n",
    "                                            \"Accept-Language\": \"ko-KR,ko;q=0.9,en-US;q=0.8,en;q=0.7\",\n",
    "                                            \"Accept-Charset\": \"application/x-www-form-urlencoded; charset=UTF-8\",\n",
    "                                            \"Origin\": \"https://developer.riotgames.com\",\n",
    "                                            \"X-Riot-Token\": \"RGAPI-53aa2568-e58c-4c7b-8d30-4d62bf7795c6\"\n",
    "                                        })\n",
    "            print(req.status_code)\n",
    "\n",
    "            if req.status_code == 200:\n",
    "                pass\n",
    "\n",
    "            elif req.status_code == 429:\n",
    "                print('api cost full : infinite loop start')\n",
    "                print('loop location : ',i)\n",
    "                start_time = time.time()\n",
    "\n",
    "                while True:\n",
    "                    if req.status_code == 429:\n",
    "\n",
    "                        print('try 10 second wait time')\n",
    "                        time.sleep(10)\n",
    "\n",
    "                        req = requests.get(match_gameid_url.format(master_user['accountId'].iloc[i],j+100,j),\\\n",
    "                                              headers = {\n",
    "                                                        \"User-Agent\": \"Mozilla/5.0 (Macintosh; Intel Mac OS X 10_15_2) AppleWebKit/537.36 (KHTML, like Gecko) Chrome/80.0.3987.149 Safari/537.36\",\n",
    "                                                        \"Accept-Language\": \"ko-KR,ko;q=0.9,en-US;q=0.8,en;q=0.7\",\n",
    "                                                        \"Accept-Charset\": \"application/x-www-form-urlencoded; charset=UTF-8\",\n",
    "                                                        \"Origin\": \"https://developer.riotgames.com\",\n",
    "                                                        \"X-Riot-Token\": \"RGAPI-53aa2568-e58c-4c7b-8d30-4d62bf7795c6\"\n",
    "                                                    })\n",
    "                        print(req.status_code)\n",
    "\n",
    "                    elif req.status_code == 200:\n",
    "                        print('total wait time : ', time.time() - start_time)\n",
    "                        print('recovery api cost')\n",
    "                        break\n",
    "\n",
    "            elif req.status_code == 503:\n",
    "                print('service available error')\n",
    "                start_time = time.time()\n",
    "\n",
    "                while True:\n",
    "                    if req.status_code == 503 or req.status_code == 429:\n",
    "\n",
    "                        print('try 10 second wait time')\n",
    "                        time.sleep(10)\n",
    "\n",
    "                        req = requests.get(match_gameid_url.format(master_user['accountId'].iloc[i],j+100,j),\\\n",
    "                                              headers = {\n",
    "                                                        \"User-Agent\": \"Mozilla/5.0 (Macintosh; Intel Mac OS X 10_15_2) AppleWebKit/537.36 (KHTML, like Gecko) Chrome/80.0.3987.149 Safari/537.36\",\n",
    "                                                        \"Accept-Language\": \"ko-KR,ko;q=0.9,en-US;q=0.8,en;q=0.7\",\n",
    "                                                        \"Accept-Charset\": \"application/x-www-form-urlencoded; charset=UTF-8\",\n",
    "                                                        \"Origin\": \"https://developer.riotgames.com\",\n",
    "                                                        \"X-Riot-Token\": \"RGAPI-53aa2568-e58c-4c7b-8d30-4d62bf7795c6\"\n",
    "                                                    })\n",
    "                        print(req.status_code)\n",
    "\n",
    "                    elif req.status_code == 200:\n",
    "                        print('total error wait time : ', time.time() - start_time)\n",
    "                        print('recovery api cost')\n",
    "                        break\n",
    "            if req.json()['totalGames'] > j :\n",
    "                game_df0 = json_normalize(req.json()['matches']).loc[:,['gameId','season','role','lane']]\n",
    "                game_df0['accountId'] = master_user['accountId'].iloc[i]\n",
    "\n",
    "                mastergame_df = mastergame_df.append(game_df0)  \n",
    "            elif req.json()['totalGames'] < j:\n",
    "                print('This user play the game ' + str(j) + ' under')\n",
    "                continue\n",
    "            \n",
    "        except: #SSLError - 에러가 뜨지 않을 때까지 반복\n",
    "            print('Error type : ',sys.exc_info()[0])\n",
    "            print('에러 탈출 위한 while문 실행 / loop location : ',i)\n",
    "            while True:\n",
    "                try:\n",
    "                    print('try 10 second error wait time')\n",
    "                    time.sleep(10)\n",
    "\n",
    "                    req = requests.get(match_gameid_url.format(master_user['accountId'].iloc[i],j+100,j),\\\n",
    "                                              headers = {\n",
    "                                                        \"User-Agent\": \"Mozilla/5.0 (Macintosh; Intel Mac OS X 10_15_2) AppleWebKit/537.36 (KHTML, like Gecko) Chrome/80.0.3987.149 Safari/537.36\",\n",
    "                                                        \"Accept-Language\": \"ko-KR,ko;q=0.9,en-US;q=0.8,en;q=0.7\",\n",
    "                                                        \"Accept-Charset\": \"application/x-www-form-urlencoded; charset=UTF-8\",\n",
    "                                                        \"Origin\": \"https://developer.riotgames.com\",\n",
    "                                                        \"X-Riot-Token\": \"RGAPI-53aa2568-e58c-4c7b-8d30-4d62bf7795c6\"\n",
    "                                                    })\n",
    "                    print('non_error - escape / req_status_code : ',req.status_code)\n",
    "\n",
    "                    break # 에러가 뜨지 않는다면 while문 탈출\n",
    "\n",
    "                except: #계속 에러가 뜬다면? 계속 while문 돌도록\n",
    "                    print('error continue')\n",
    "\n",
    "            #while문에서 나오면 동작해야할 코드\n",
    "            print('Escape code')\n",
    "            if req.json()['totalGames'] > j :\n",
    "                game_df0 = json_normalize(req.json()['matches']).loc[:,['gameId','season','role','lane']]\n",
    "                game_df0['accountId'] = master_user['accountId'].iloc[i]\n",
    "\n",
    "                mastergame_df = mastergame_df.append(game_df0)\n",
    "                print(i+'번 째 Loop location에 대한 데이터 수집 완료')\n",
    "                pass #마지막 error문 탈출  \n",
    "            elif req.json()['totalGames'] < j:\n",
    "                print('This user play the game ' + str(j) + ' under')\n",
    "                continue\n",
    "            "
   ]
  },
  {
   "cell_type": "code",
   "execution_count": 80,
   "metadata": {},
   "outputs": [],
   "source": [
    "mastergame_df.to_csv('/Users/sinmin-yong/GitHub/studies/Riot_DB/master_match_V2.csv')"
   ]
  },
  {
   "cell_type": "code",
   "execution_count": 276,
   "metadata": {},
   "outputs": [],
   "source": [
    "mastergame_df2 = mastergame_df2.append(mastergame_df)"
   ]
  },
  {
   "cell_type": "code",
   "execution_count": 10,
   "metadata": {},
   "outputs": [
    {
     "data": {
      "text/plain": [
       "65947"
      ]
     },
     "execution_count": 10,
     "metadata": {},
     "output_type": "execute_result"
    }
   ],
   "source": [
    "mastergame_df2['gameId'].nunique()"
   ]
  },
  {
   "cell_type": "code",
   "execution_count": 278,
   "metadata": {},
   "outputs": [],
   "source": [
    "mastergame_df2.to_csv('/Users/sinmin-yong/GitHub/studies/Riot_DB/master_match.csv')"
   ]
  },
  {
   "cell_type": "markdown",
   "metadata": {},
   "source": [
    "### 4-4. 천상계 게임 데이터 총 병합\n",
    "    - 유저당 100개의 gameid를 수집하여 gameid를 정의"
   ]
  },
  {
   "cell_type": "code",
   "execution_count": 280,
   "metadata": {},
   "outputs": [],
   "source": [
    "challenger_df['league_name'] = 'challenger'\n",
    "grmaster_df['league_name'] = 'grandmaster'\n",
    "master_df['league_name'] = 'master'"
   ]
  },
  {
   "cell_type": "code",
   "execution_count": null,
   "metadata": {},
   "outputs": [],
   "source": [
    "grmastergame_df = pd.read_csv('/Users/sinmin-yong/GitHub/studies/Riot_DB/grandmaster_match.csv')\n",
    "challengergame_df = pd.read_csv('/Users/sinmin-yong/GitHub/studies/Riot_DB/challenger_match.csv')\n",
    "mastergame_df = pd.read_csv('/Users/sinmin-yong/GitHub/studies/Riot_DB/master_match.csv')\n",
    "\n",
    "grmastergame_df2 = pd.read_csv('/Users/sinmin-yong/GitHub/studies/Riot_DB/grandmaster_match_V2.csv')\n",
    "challengergame_df2 = pd.read_csv('/Users/sinmin-yong/GitHub/studies/Riot_DB/challenger_match_V2.csv')\n",
    "mastergame_df2 = pd.read_csv('/Users/sinmin-yong/GitHub/studies/Riot_DB/master_match_V2.csv')\n",
    "\n",
    "ingame_df2 = pd.read_pickle('/Users/sinmin-yong/GitHub/studies/Riot_DB/match_data_V1.pickle')\n",
    "ingame_df3 = pd.read_pickle('/Users/sinmin-yong/GitHub/studies/Riot_DB/match_data_V2.pickle')\n",
    "ingame_df4 = pd.read_pickle('/Users/sinmin-yong/GitHub/studies/Riot_DB/match_data_V3.pickle')\n"
   ]
  },
  {
   "cell_type": "code",
   "execution_count": 143,
   "metadata": {},
   "outputs": [],
   "source": [
    "challengergame_df['league_name'] = 'challenger'\n",
    "grmastergame_df['league_name'] = 'grandmaster'\n",
    "mastergame_df['league_name'] = 'master'\n",
    "\n",
    "challengergame_df2['league_name'] = 'challenger'\n",
    "grmastergame_df2['league_name'] = 'grandmaster'\n",
    "mastergame_df2['league_name'] = 'master'"
   ]
  },
  {
   "cell_type": "code",
   "execution_count": 128,
   "metadata": {},
   "outputs": [],
   "source": [
    "game_data = pd.concat([challengergame_df,grmastergame_df,mastergame_df],axis=0)\n",
    "game_data2 = pd.concat([challengergame_df2,grmastergame_df2,mastergame_df2],axis=0)"
   ]
  },
  {
   "cell_type": "code",
   "execution_count": 129,
   "metadata": {},
   "outputs": [],
   "source": [
    "gameid_ls = list(set(game_data['gameId'].tolist() + game_data2['gameId'].tolist()))"
   ]
  },
  {
   "cell_type": "code",
   "execution_count": 130,
   "metadata": {},
   "outputs": [],
   "source": [
    "gameid_ls_suc = list(set(ingame_df2['gameId'].tolist() + ingame_df3['gameId'].tolist() + \\\n",
    "                     ingame_df4['gameId'].tolist()))"
   ]
  },
  {
   "cell_type": "code",
   "execution_count": 131,
   "metadata": {},
   "outputs": [],
   "source": [
    "gameid_int = []\n",
    "for i in range(len(gameid_ls_suc)):\n",
    "    gameid_int.append(int(gameid_ls_suc[i]))"
   ]
  },
  {
   "cell_type": "markdown",
   "metadata": {},
   "source": [
    "### 4-5. match in game data"
   ]
  },
  {
   "cell_type": "code",
   "execution_count": 132,
   "metadata": {},
   "outputs": [],
   "source": [
    "gameid_ls_fin = list(set(gameid_ls) - set(gameid_int))"
   ]
  },
  {
   "cell_type": "code",
   "execution_count": 133,
   "metadata": {},
   "outputs": [
    {
     "data": {
      "text/plain": [
       "148630"
      ]
     },
     "execution_count": 133,
     "metadata": {},
     "output_type": "execute_result"
    }
   ],
   "source": [
    "len(gameid_ls_fin)"
   ]
  },
  {
   "cell_type": "code",
   "execution_count": null,
   "metadata": {},
   "outputs": [],
   "source": [
    "ingame_df = pd.DataFrame()\n",
    "match_url = 'https://kr.api.riotgames.com/lol/match/v4/matches/{}?api_key=' +  my_api\n",
    "\n",
    "for i in range(0,20000):\n",
    "    try:\n",
    "        \n",
    "        req = requests.get(match_url.format(gameid_ls_fin[i]))\n",
    "        print(req.status_code)\n",
    "\n",
    "        if req.status_code == 200:\n",
    "            pass\n",
    "\n",
    "        elif req.status_code == 429:\n",
    "            print('api cost full : infinite loop start')\n",
    "            print('loop location : ',i)\n",
    "            start_time = time.time()\n",
    "\n",
    "            while True:\n",
    "                if req.status_code == 429:\n",
    "\n",
    "                    print('try 10 second wait time')\n",
    "                    time.sleep(10)\n",
    "\n",
    "                    req = requests.get(match_url.format(gameid_ls_fin[i]))\n",
    "                    print(req.status_code)\n",
    "\n",
    "                elif req.status_code == 200:\n",
    "                    print('total wait time : ', time.time() - start_time)\n",
    "                    print('recovery api cost')\n",
    "                    break\n",
    "\n",
    "        elif req.status_code == 503:\n",
    "            print('service available error')\n",
    "            start_time = time.time()\n",
    "\n",
    "            while True:\n",
    "                if req.status_code == 503 or req.status_code == 429:\n",
    "\n",
    "                    print('try 10 second wait time')\n",
    "                    time.sleep(10)\n",
    "\n",
    "                    req = requests.get(match_url.format(gameid_ls_fin[i]))\n",
    "                    print(req.status_code)\n",
    "\n",
    "                elif req.status_code == 200:\n",
    "                    print('total error wait time : ', time.time() - start_time)\n",
    "                    print('recovery api cost')\n",
    "                    break\n",
    "        elif req.status_code == 403: # api갱신이 필요\n",
    "            print('you need api renewal')\n",
    "            print('break')\n",
    "            break\n",
    "\n",
    "        ingame_df0 = json_normalize(req.json())\n",
    "        ingame_df = ingame_df.append(ingame_df0) \n",
    "        \n",
    "        if i % 10000 == 0:\n",
    "            ingame_df.to_pickle('/Users/sinmin-yong/GitHub/studies/Riot_DB/match_data_V4.pickle')\n",
    "        \n",
    "    except: #SSLError - 에러가 뜨지 않을 때까지 반복\n",
    "        print('Error type : ',sys.exc_info()[0])\n",
    "        print('에러 탈출 위한 while문 실행 / loop location : ',i)\n",
    "        while True:\n",
    "            try:\n",
    "                print('try 10 second error wait time')\n",
    "                time.sleep(10)\n",
    "                \n",
    "                req = requests.get(match_url.format(gameid_ls_fin[i]))\n",
    "                print('non_error - escape / req_status_code : ',req.status_code)\n",
    "                \n",
    "                break # 에러가 뜨지 않는다면 while문 탈출\n",
    "                \n",
    "            except: #계속 에러가 뜬다면? 계속 while문 돌도록\n",
    "                print('error continue')\n",
    "                \n",
    "        #while문에서 나오면 동작해야할 코드\n",
    "        print('Escape code')\n",
    "        ingame_df0 = json_normalize(req.json())\n",
    "        ingame_df = ingame_df.append(ingame_df0) \n",
    "        print(i+'번 째 Loop location에 대한 데이터 수집 완료')\n",
    "        pass #마지막 error문 탈출\n",
    "\n",
    "ingame_df.to_pickle('/Users/sinmin-yong/GitHub/studies/Riot_DB/match_data_V4.pickle')"
   ]
  },
  {
   "cell_type": "markdown",
   "metadata": {},
   "source": [
    "#67000~\n",
    "ingame_df.to_pickle('/Users/sinmin-yong/GitHub/studies/Riot_DB/match_data_V3.pickle')\n",
    "#45000~67000\n",
    "ingame_df.to_pickle('/Users/sinmin-yong/GitHub/studies/Riot_DB/match_data_V2.pickle')\n",
    "#~45000\n",
    "ingame_df2.to_pickle('/Users/sinmin-yong/GitHub/studies/Riot_DB/match_data_V1.pickle')\n",
    "\n",
    "ingame_df_v1 = pd.read_pickle('/Users/sinmin-yong/GitHub/studies/Riot_DB/match_data_V1.pickle')\n",
    "ingame_df_v2 = pd.read_pickle('/Users/sinmin-yong/GitHub/studies/Riot_DB/match_data_V2.pickle')\n",
    "ingame_df_v3 = pd.read_pickle('/Users/sinmin-yong/GitHub/studies/Riot_DB/match_data_V3.pickle')\n",
    "\n",
    "ingame_df_mer = pd.concat([ingame_df_v1,ingame_df_v2,ingame_df_v3])\n",
    "ingame_df_mer.index = range(len(ingame_df_mer))\n",
    "\n",
    "ingame_df.index = range(len(ingame_df))\n",
    "\n",
    "ingame_df2 = ingame_df.drop(index = ingame_df.isnull()[ingame_df.isnull()['gameCreation'] == True].index.tolist())"
   ]
  },
  {
   "cell_type": "markdown",
   "metadata": {},
   "source": [
    "### 4-6. upload to kaggle"
   ]
  },
  {
   "cell_type": "code",
   "execution_count": 68,
   "metadata": {},
   "outputs": [],
   "source": [
    "ingame_df2 = pd.read_pickle('/Users/sinmin-yong/GitHub/studies/Riot_DB/match_data_V1.pickle')\n",
    "ingame_df3 = pd.read_pickle('/Users/sinmin-yong/GitHub/studies/Riot_DB/match_data_V2.pickle')"
   ]
  },
  {
   "cell_type": "code",
   "execution_count": 69,
   "metadata": {},
   "outputs": [],
   "source": [
    "ingame_df_kaggle = pd.concat([ingame_df2,ingame_df3],axis=0)"
   ]
  },
  {
   "cell_type": "code",
   "execution_count": null,
   "metadata": {},
   "outputs": [],
   "source": [
    "winner_team_gamestats_ls = []\n",
    "loser_team_gamestats_ls = []\n",
    "for i in range(len(ingame_df_kaggle)):\n",
    "    if i % 20000 == 0:\n",
    "        print(i)\n",
    "    ingame_df_kaggle['teams'].iloc[i][0]['gameId'] = ingame_df_kaggle['gameId'].iloc[i]\n",
    "    ingame_df_kaggle['teams'].iloc[i][1]['gameId'] = ingame_df_kaggle['gameId'].iloc[i]\n",
    "    \n",
    "    if ingame_df_kaggle['teams'].iloc[i][0]['win'] == 'Win':\n",
    "        \n",
    "        winner_team_gamestats_ls.append(ingame_df_kaggle['teams'].iloc[i][0]) \n",
    "        loser_team_gamestats_ls.append(ingame_df_kaggle['teams'].iloc[i][1])\n",
    "    else:\n",
    "        \n",
    "        winner_team_gamestats_ls.append(ingame_df_kaggle['teams'].iloc[i][1]) \n",
    "        loser_team_gamestats_ls.append(ingame_df_kaggle['teams'].iloc[i][0])\n",
    "    \n",
    "    \n",
    "winner_team_gamestats = json_normalize(winner_team_gamestats_ls)\n",
    "loser_team_gamestats = json_normalize(loser_team_gamestats_ls)"
   ]
  },
  {
   "cell_type": "code",
   "execution_count": 85,
   "metadata": {},
   "outputs": [],
   "source": [
    "ingame_df_kaggle.to_pickle('/Users/sinmin-yong/GitHub/studies/Riot_DB/kaggle_upload/match_data_version1.pickle')\n",
    "winner_team_gamestats.to_pickle('/Users/sinmin-yong/GitHub/studies/Riot_DB/kaggle_upload/match_winner_data_version1.pickle')\n",
    "loser_team_gamestats.to_pickle('/Users/sinmin-yong/GitHub/studies/Riot_DB/kaggle_upload/match_loser_data_version1.pickle')"
   ]
  },
  {
   "cell_type": "code",
   "execution_count": 86,
   "metadata": {},
   "outputs": [],
   "source": [
    "ingame_df_kaggle.to_csv('/Users/sinmin-yong/GitHub/studies/Riot_DB/kaggle_upload/match_data_version1.csv')\n",
    "winner_team_gamestats.to_csv('/Users/sinmin-yong/GitHub/studies/Riot_DB/kaggle_upload/match_winner_data_version1.csv')\n",
    "loser_team_gamestats.to_csv('/Users/sinmin-yong/GitHub/studies/Riot_DB/kaggle_upload/match_loser_data_version1.csv')"
   ]
  },
  {
   "cell_type": "markdown",
   "metadata": {},
   "source": [
    "# LOL status(우선순위밖)\n",
    "    - 리그오브레전드의 현재 상태값을 나타냄"
   ]
  },
  {
   "cell_type": "markdown",
   "metadata": {},
   "source": [
    "# LOR - Ranked(우선순위밖)\n",
    "    - 우리나라 랭크값은 아님"
   ]
  },
  {
   "cell_type": "markdown",
   "metadata": {},
   "source": [
    "# League exp\n",
    "    - 리그 경험치(리그 순위)\n",
    "    - 페이지별로 뽑아 올 수 있음 약210개정도 되는 듯"
   ]
  },
  {
   "cell_type": "markdown",
   "metadata": {},
   "source": [
    "# champion\n",
    "    - 챔피언 로테이션 정보"
   ]
  },
  {
   "cell_type": "markdown",
   "metadata": {},
   "source": [
    "# champion-mastery\n",
    "    - 각 유저별 챔피언 숙련도\n",
    "    - champion id 별로 어떤 챔피언인지 정보는 ??\n",
    "        - https://github.com/Najsr/League-Of-Legends-Champions-ID-List/blob/master/list.php\n",
    "        - https://developer.riotgames.com/docs/lol#data-dragon_champions"
   ]
  },
  {
   "cell_type": "code",
   "execution_count": 21,
   "metadata": {},
   "outputs": [],
   "source": [
    "# champion info load\n",
    "req2 = requests.get('http://ddragon.leagueoflegends.com/cdn/10.6.1/data/en_US/champion.json')\n",
    "\n",
    "champ_ls = list(req2.json()['data'].keys())\n",
    "\n",
    "champ_df = pd.DataFrame()\n",
    "for i in range(len(champ_ls)):\n",
    "    pre_df = json_normalize(req2.json()['data'][champ_ls[i]])\n",
    "    champ_df = champ_df.append(pre_df)"
   ]
  },
  {
   "cell_type": "code",
   "execution_count": 160,
   "metadata": {},
   "outputs": [],
   "source": [
    "champ_df.to_pickle('/Users/sinmin-yong/GitHub/studies/Riot_DB/riot_champion.pickle')"
   ]
  },
  {
   "cell_type": "code",
   "execution_count": 188,
   "metadata": {},
   "outputs": [],
   "source": [
    "champ_df.to_csv('/Users/sinmin-yong/GitHub/studies/Riot_DB/riot_champion.csv')"
   ]
  },
  {
   "cell_type": "markdown",
   "metadata": {},
   "source": [
    "# ITEMS\n",
    "    - https://developer.riotgames.com/docs/lol#data-dragon_items"
   ]
  },
  {
   "cell_type": "code",
   "execution_count": 3,
   "metadata": {},
   "outputs": [],
   "source": [
    "req = requests.get('http://ddragon.leagueoflegends.com/cdn/10.6.1/data/en_US/item.json')"
   ]
  },
  {
   "cell_type": "code",
   "execution_count": null,
   "metadata": {},
   "outputs": [],
   "source": [
    "item_ls = []\n",
    "for i in list(range(0,10000)):\n",
    "    try:\n",
    "        a = req.json()['data'][str(i)]\n",
    "        item_ls.append(str(i))\n",
    "    except:\n",
    "        pass"
   ]
  },
  {
   "cell_type": "code",
   "execution_count": null,
   "metadata": {},
   "outputs": [],
   "source": [
    "item_table = pd.DataFrame()\n",
    "for i in item_ls:\n",
    "    item_id = i\n",
    "    try:\n",
    "        name = req.json()['data'][i]['name']\n",
    "    except:\n",
    "        name = np.nan\n",
    "        \n",
    "    try:\n",
    "        upper_item = req.json()['data'][i]['into']\n",
    "    except:\n",
    "        upper_item = np.nan\n",
    "    \n",
    "    try:\n",
    "        explain = req.json()['data'][i]['plaintext']\n",
    "    except:\n",
    "        explain = np.nan\n",
    "    \n",
    "    try:\n",
    "        buy_price = req.json()['data'][i]['gold']['base']\n",
    "    except:\n",
    "        buy_price = np.nan\n",
    "    \n",
    "    try:\n",
    "        sell_price = req.json()['data'][i]['gold']['sell']\n",
    "    except:\n",
    "        sell_price = np.nan\n",
    "        \n",
    "    try:\n",
    "        tag = req.json()['data'][i]['tags'][0]\n",
    "    except:\n",
    "        tag = np.nan\n",
    "    \n",
    "    pre_df = pd.DataFrame({'item_id' : [item_id],\n",
    "                           'name' : [name],\n",
    "                           'upper_item' : [upper_item],\n",
    "                           'explain' : [explain],\n",
    "                           'buy_price' : [buy_price],\n",
    "                           'sell_price' : [sell_price],\n",
    "                           'tag' : [tag]\n",
    "                          })\n",
    "    \n",
    "    item_table = item_table.append(pre_df)\n",
    "    "
   ]
  },
  {
   "cell_type": "code",
   "execution_count": 158,
   "metadata": {},
   "outputs": [],
   "source": [
    "item_table.to_pickle('/Users/sinmin-yong/GitHub/studies/Riot_DB/riot_item.pickle')"
   ]
  },
  {
   "cell_type": "code",
   "execution_count": 187,
   "metadata": {},
   "outputs": [],
   "source": [
    "item_table.to_csv('/Users/sinmin-yong/GitHub/studies/Riot_DB/riot_item.csv')"
   ]
  },
  {
   "cell_type": "code",
   "execution_count": null,
   "metadata": {},
   "outputs": [],
   "source": []
  }
 ],
 "metadata": {
  "kernelspec": {
   "display_name": "Python 3",
   "language": "python",
   "name": "python3"
  },
  "language_info": {
   "codemirror_mode": {
    "name": "ipython",
    "version": 3
   },
   "file_extension": ".py",
   "mimetype": "text/x-python",
   "name": "python",
   "nbconvert_exporter": "python",
   "pygments_lexer": "ipython3",
   "version": "3.7.7"
  }
 },
 "nbformat": 4,
 "nbformat_minor": 2
}
