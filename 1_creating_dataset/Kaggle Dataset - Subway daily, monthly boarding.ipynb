{
 "cells": [
  {
   "cell_type": "code",
   "execution_count": null,
   "metadata": {},
   "outputs": [],
   "source": [
    "import pandas as pd\n",
    "import numpy as np\n",
    "\n",
    "from urllib.parse import quote    \n",
    "from urllib.request import urlopen\n",
    "\n",
    "import sys\n",
    "import requests\n",
    "from bs4 import BeautifulSoup \n",
    "import pandas as pd\n",
    "from sqlalchemy import create_engine\n",
    "\n",
    "#import pymysql.cursors\n",
    "#pymysql.install_as_MySQLdb()\n",
    "#import MySQLdb\n",
    "from pandas.io.json import json_normalize\n",
    "import time\n",
    "#from pyproj import Proj, transform\n",
    "#import folium\n",
    "#from folium.plugins import MarkerCluster, MiniMap\n",
    "import re"
   ]
  },
  {
   "cell_type": "markdown",
   "metadata": {},
   "source": [
    "# Subway monthly boarding log"
   ]
  },
  {
   "cell_type": "code",
   "execution_count": null,
   "metadata": {},
   "outputs": [],
   "source": [
    "api_key = '4c6e727a6c6779653532546b576f6e'\n",
    "base_url = 'http://openapi.seoul.go.kr:8088/{}/json/CardSubwayTime/{}/{}/{}/'\n",
    "\n",
    "year_range = ['2015','2016','2017','2018','2019']\n",
    "month_range = ['01','02','03','04','05','06','07','08','09','10','11','12']\n",
    "\n",
    "for j in year_range:\n",
    "    start_time = time.time()\n",
    "    table_name = 'subway_monthly_timelog_'+j\n",
    "    monthly_df = pd.DataFrame()\n",
    "    \n",
    "    for i in month_range:\n",
    "        ym_value = j + i\n",
    "        \n",
    "        num = 1\n",
    "        while True:\n",
    "            try:\n",
    "\n",
    "                req = requests.get(base_url.format(api_key,str(num),str(num+999),ym_value), headers = {'user-agent': \\\n",
    "                                                ('Mozilla/5.0 (Macintosh; Intel Mac OS X 10_15_2) AppleWebKit/537.36 (KHTML, like Gecko) Chrome/79.0.3945.130 Safari/537.36')})\n",
    "\n",
    "                subway_json = req.json()\n",
    "                sample_df = json_normalize(subway_json['CardSubwayTime']['row'])\n",
    "                \n",
    "                monthly_df = monthly_df.append(sample_df)\n",
    "\n",
    "                #sample_df.to_sql(name=table_name,con=engine,if_exists='append')\n",
    "\n",
    "\n",
    "                print('지하철 데이터 {} ~ {} row 수집중'.format(str(num),str(num+999)))\n",
    "                num +=1000\n",
    "            except:\n",
    "                break\n",
    "        print('--------------------'+j+'년'+i+'월 데이터 수집 완료---------------------')\n",
    "        \n",
    "        \n",
    "    print('============================================================================')\n",
    "    print('=============================='+j+' 연도 테이블 생성 완료========================')\n",
    "    print('============================================================================')\n",
    "    print('연평균 수집 소요 시간(초) : ', time.time()-start_time)\n",
    "    monthly_df.index = range(len(monthly_df))\n",
    "\n",
    "    monthly_df.to_csv(table_name+'.csv',index = False)\n",
    "\n"
   ]
  },
  {
   "cell_type": "code",
   "execution_count": null,
   "metadata": {},
   "outputs": [],
   "source": [
    "subway_monthlylog2015 = pd.read_csv('subway_monthly_timelog_2015.csv')\n",
    "subway_monthlylog2016 = pd.read_csv('subway_monthly_timelog_2016.csv')\n",
    "subway_monthlylog2017 = pd.read_csv('subway_monthly_timelog_2017.csv')\n",
    "subway_monthlylog2018 = pd.read_csv('subway_monthly_timelog_2018.csv')\n",
    "subway_monthlylog2019 = pd.read_csv('subway_monthly_timelog_2019.csv')"
   ]
  },
  {
   "cell_type": "code",
   "execution_count": null,
   "metadata": {},
   "outputs": [],
   "source": [
    "subway_monthly = pd.concat([subway_monthlylog2015,subway_monthlylog2016,subway_monthlylog2017,\\\n",
    "                           subway_monthlylog2018,subway_monthlylog2019])"
   ]
  },
  {
   "cell_type": "markdown",
   "metadata": {},
   "source": [
    "# Subway daily Boarding log"
   ]
  },
  {
   "cell_type": "code",
   "execution_count": null,
   "metadata": {},
   "outputs": [],
   "source": [
    "api_key = '7a4d4a55776779653838644e786969'\n",
    "base_url = 'http://openapi.seoul.go.kr:8088/{}/json/CardSubwayStatsNew/{}/{}/{}'\n",
    "\n",
    "year_range = ['2015','2016','2017','2018','2019']\n",
    "date_range = pd.date_range(start='20150101', end='20191231').strftime('%Y%m%d').tolist()\n",
    "month_range = []\n",
    "for i in date_range:\n",
    "    month_range.append(i[4:])\n",
    "day_range = pd.Series(month_range).unique().tolist()[:-1]   "
   ]
  },
  {
   "cell_type": "code",
   "execution_count": null,
   "metadata": {},
   "outputs": [],
   "source": [
    "for i in year_range:\n",
    "    start_time = time.time()\n",
    "    db_name = 'subway_dailylog_' + i\n",
    "    \n",
    "    dailylog_df = pd.DataFrame()\n",
    "    for j in day_range:\n",
    "        ym = i+j\n",
    "        \n",
    "        num = 1\n",
    "        \n",
    "        while True:\n",
    "            try:\n",
    "                req = requests.get(base_url.format(api_key,str(num),str(num+999),ym), headers = {'user-agent': \\\n",
    "                                                        ('Mozilla/5.0 (Macintosh; Intel Mac OS X 10_15_2) AppleWebKit/537.36 (KHTML, like Gecko) Chrome/79.0.3945.130 Safari/537.36')})\n",
    "\n",
    "                json_data = req.json()\n",
    "                sample_df = json_normalize(json_data['CardSubwayStatsNew']['row'])\n",
    "                \n",
    "                dailylog_df = dailylog_df.append(sample_df)\n",
    "                #sample_df.to_sql(name=db_name,con=engine,if_exists='append')\n",
    "                \n",
    "                #print('지하철 데이터 {} ~ {} row 수집중'.format(str(num),str(num+999)))\n",
    "                print(i+j+' 데이터 적재 완료')\n",
    "                num +=1000\n",
    "            except:\n",
    "                break\n",
    "                \n",
    "    print('============================================================================')\n",
    "    print('=============================='+i+' 연도 테이블 생성 완료========================')\n",
    "    print('============================================================================')\n",
    "    print('연평균 수집 소요 시간(초) : ', time.time()-start_time)\n",
    "    \n",
    "    dailylog_df.index = range(len(dailylog_df))\n",
    "    dailylog_df.to_csv(db_name+'.csv',index = False)\n",
    "\n",
    "        "
   ]
  },
  {
   "cell_type": "code",
   "execution_count": null,
   "metadata": {},
   "outputs": [],
   "source": [
    "subway_dailylog2015 = pd.read_csv('subway_dailylog_2015.csv')\n",
    "subway_dailylog2016 = pd.read_csv('subway_dailylog_2016.csv')\n",
    "subway_dailylog2017 = pd.read_csv('subway_dailylog_2017.csv')\n",
    "subway_dailylog2018 = pd.read_csv('subway_dailylog_2018.csv')\n",
    "subway_dailylog2019 = pd.read_csv('subway_dailylog_2019.csv')"
   ]
  },
  {
   "cell_type": "code",
   "execution_count": null,
   "metadata": {},
   "outputs": [],
   "source": [
    "subway_dailylog = pd.concat([subway_dailylog2015,subway_dailylog2016,subway_dailylog2017,\\\n",
    "                            subway_dailylog2018,subway_dailylog2019])"
   ]
  }
 ],
 "metadata": {
  "kernelspec": {
   "display_name": "Python 3",
   "language": "python",
   "name": "python3"
  },
  "language_info": {
   "codemirror_mode": {
    "name": "ipython",
    "version": 3
   },
   "file_extension": ".py",
   "mimetype": "text/x-python",
   "name": "python",
   "nbconvert_exporter": "python",
   "pygments_lexer": "ipython3",
   "version": "3.7.7"
  }
 },
 "nbformat": 4,
 "nbformat_minor": 4
}
